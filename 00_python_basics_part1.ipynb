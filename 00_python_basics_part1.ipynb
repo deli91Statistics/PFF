{
 "cells": [
  {
   "cell_type": "markdown",
   "metadata": {
    "collapsed": true,
    "pycharm": {
     "name": "#%% md\n"
    }
   },
   "source": [
    "# Python Basics: Data Structures\n",
    "\n",
    "## Lists\n",
    "\n",
    "- object of variable length\n",
    "- mutable, i.e. object can be altered\n",
    "- can be modified in-place\n"
   ]
  },
  {
   "cell_type": "markdown",
   "source": [
    "### Create a list"
   ],
   "metadata": {
    "collapsed": false
   }
  },
  {
   "cell_type": "code",
   "execution_count": 25,
   "outputs": [
    {
     "data": {
      "text/plain": "[0, 1, 2, 3, 4]"
     },
     "execution_count": 25,
     "metadata": {},
     "output_type": "execute_result"
    }
   ],
   "source": [
    "# Using []\n",
    "L1 = [1, 2, 3, 4, 5, 6, 7, 8, 9, 10]\n",
    "L2 = [3, 5, 3, 4, 3, 6, 55, 8, 66, 10]\n",
    "L3 = ['word', 'this is a sentence', 'a', 'b', 'C']\n",
    "L4 = [L1, L2]\n",
    "\n",
    "\n",
    "# Using list()\n",
    "generator = range(5)\n",
    "list(generator)\n"
   ],
   "metadata": {
    "collapsed": false,
    "pycharm": {
     "name": "#%%\n"
    }
   }
  },
  {
   "cell_type": "markdown",
   "source": [
    "### Access elements in a list"
   ],
   "metadata": {
    "collapsed": false
   }
  },
  {
   "cell_type": "code",
   "execution_count": 14,
   "outputs": [],
   "source": [
    "L1 = [1, 2, 3, 4, 5, 6, 7, 8, 9, 10]\n"
   ],
   "metadata": {
    "collapsed": false,
    "pycharm": {
     "name": "#%%\n"
    }
   }
  },
  {
   "cell_type": "code",
   "execution_count": 15,
   "outputs": [
    {
     "data": {
      "text/plain": "[10, 8, 6, 4, 2]"
     },
     "execution_count": 15,
     "metadata": {},
     "output_type": "execute_result"
    }
   ],
   "source": [
    "# Selection by index\n",
    "L1[3]           # 3. element\n",
    "L1[-2]          # 2. reversed\n",
    "\n",
    "# selection by slice\n",
    "# grammar: my_list[start:stop:step]\n",
    "\n",
    "L1[::3]     # every third\n",
    "L1[::-2]    # every second reversed\n"
   ],
   "metadata": {
    "collapsed": false,
    "pycharm": {
     "name": "#%%\n"
    }
   }
  },
  {
   "cell_type": "markdown",
   "source": [
    "### Exercise: Access elements in a list"
   ],
   "metadata": {
    "collapsed": false,
    "pycharm": {
     "name": "#%% md\n"
    }
   }
  },
  {
   "cell_type": "code",
   "execution_count": 16,
   "outputs": [
    {
     "data": {
      "text/plain": "[6, 9]"
     },
     "execution_count": 16,
     "metadata": {},
     "output_type": "execute_result"
    }
   ],
   "source": [
    "# start with item 2 towards item 6 in 3 step interval\n",
    "L1[2:6:3]\n",
    "\n",
    "# loop backwards in two step intervals starting with 3. item from the back\n",
    "L1[-3::-2]\n",
    "\n",
    "# start with 5. item from the back and iterate forward in 3 steps interval\n",
    "L1[-5::3]\n"
   ],
   "metadata": {
    "collapsed": false,
    "pycharm": {
     "name": "#%%\n"
    }
   }
  },
  {
   "cell_type": "markdown",
   "source": [
    "### Change Elements in a List"
   ],
   "metadata": {
    "collapsed": false
   }
  },
  {
   "cell_type": "code",
   "execution_count": 17,
   "outputs": [],
   "source": [
    "# Overwrite element in list\n",
    "L1[1] = 8888                # by index\n",
    "L1[:3] = [33, 33, 33]       # by slicing, lenght have to match"
   ],
   "metadata": {
    "collapsed": false,
    "pycharm": {
     "name": "#%%\n"
    }
   }
  },
  {
   "cell_type": "code",
   "execution_count": null,
   "outputs": [],
   "source": [
    "# Delete element in list\n",
    "\n",
    "del L1[1]                       # by index\n",
    "del L1[4:7]                     # by slicing\n",
    "L3.remove('word')               # by name, not suitable for numbers\n",
    "L2.remove(3)                    # removes only the first item of list that matches if multiple occur"
   ],
   "metadata": {
    "collapsed": false,
    "pycharm": {
     "name": "#%%\n"
    }
   }
  },
  {
   "cell_type": "code",
   "execution_count": null,
   "outputs": [],
   "source": [
    "# Insert element in list\n",
    "\n",
    "L2.insert(4, 333)               # insert one element by index, here: index=4, number=333\n",
    "L2[3:3] = [66, 77, 88]          # insert list elements (not list!) starting at index=3\n",
    "L2.insert(2, [777, 777])        # insert a list as a list in the list, not viable!"
   ],
   "metadata": {
    "collapsed": false,
    "pycharm": {
     "name": "#%%\n"
    }
   }
  },
  {
   "cell_type": "code",
   "execution_count": 23,
   "outputs": [
    {
     "data": {
      "text/plain": "[1, 2, 3, 4, 5, 6, 7, 8, 9, 10, 5]"
     },
     "execution_count": 23,
     "metadata": {},
     "output_type": "execute_result"
    }
   ],
   "source": [
    "# Append elements to a list\n",
    "x = 5\n",
    "L1.append(x)\n",
    "L1\n"
   ],
   "metadata": {
    "collapsed": false,
    "pycharm": {
     "name": "#%%\n"
    }
   }
  },
  {
   "cell_type": "code",
   "execution_count": 24,
   "outputs": [
    {
     "data": {
      "text/plain": "[1, 2, 3, 4, 5, 6, 7, 8, 9, 10, 5, [3, 5, 3, 4, 3, 6, 55, 8, 66, 10]]"
     },
     "execution_count": 24,
     "metadata": {},
     "output_type": "execute_result"
    }
   ],
   "source": [
    "# Entire list (WRONG WAY)\n",
    "\n",
    "L1.append(L2)       # append a list and not(!) the elements within the list, for that see concatenate\n",
    "L1                  # yields a list of elements with a list in the end\n"
   ],
   "metadata": {
    "collapsed": false,
    "pycharm": {
     "name": "#%%\n"
    }
   }
  },
  {
   "cell_type": "code",
   "execution_count": 26,
   "outputs": [
    {
     "data": {
      "text/plain": "[1, 2, 3, 4, 5, 6, 7, 8, 9, 10, 3, 5, 3, 4, 3, 6, 55, 8, 66, 10]"
     },
     "execution_count": 26,
     "metadata": {},
     "output_type": "execute_result"
    }
   ],
   "source": [
    "# Concatenate lists\n",
    "\n",
    "L1 + L2  # this is not(!) the same like [L1, L2]\n",
    "\n"
   ],
   "metadata": {
    "collapsed": false,
    "pycharm": {
     "name": "#%%\n"
    }
   }
  },
  {
   "cell_type": "markdown",
   "source": [
    "### Iteration and List comprehension"
   ],
   "metadata": {
    "collapsed": false
   }
  },
  {
   "cell_type": "code",
   "execution_count": 27,
   "outputs": [
    {
     "name": "stdout",
     "output_type": "stream",
     "text": [
      "1\n",
      "2\n",
      "3\n",
      "4\n",
      "5\n",
      "6\n",
      "7\n",
      "8\n",
      "9\n",
      "10\n"
     ]
    }
   ],
   "source": [
    "# classical for-loop\n",
    "\n",
    "for x in L1:\n",
    "    print(x)\n"
   ],
   "metadata": {
    "collapsed": false,
    "pycharm": {
     "name": "#%%\n"
    }
   }
  },
  {
   "cell_type": "markdown",
   "source": [
    "### List comprehension\n",
    "List comprehension offers an elegant way to create a new list based on another list and further conditions\n",
    "\n",
    "Syntax:\n",
    "\n",
    "    [ 'expression' for 'item' in list if 'conditional' ]\n",
    "\n",
    "Semantically, this means\n",
    "\n",
    "    [*transform*  *iteration*  *filter* ]\n",
    "\n",
    "this is equivalent to\n",
    "\n",
    "    for item in list:\n",
    "        if conditional:\n",
    "            expression"
   ],
   "metadata": {
    "collapsed": false
   }
  },
  {
   "cell_type": "code",
   "execution_count": 38,
   "outputs": [],
   "source": [
    "L_comp = [1, 2, 3, 4, 5, 6, 7, 8, 9, 10]\n",
    "L_comp_str = ['aa', 'ab', 'bb', 'bc']"
   ],
   "metadata": {
    "collapsed": false,
    "pycharm": {
     "name": "#%%\n"
    }
   }
  },
  {
   "cell_type": "code",
   "execution_count": 30,
   "outputs": [
    {
     "data": {
      "text/plain": "[1, 2, 3, 4, 5, 6, 7, 8, 9, 10]"
     },
     "execution_count": 30,
     "metadata": {},
     "output_type": "execute_result"
    }
   ],
   "source": [
    "# Print/Return identity\n",
    "lst_comp_1 = [k for k in L_comp]\n",
    "lst_comp_1"
   ],
   "metadata": {
    "collapsed": false,
    "pycharm": {
     "name": "#%%\n"
    }
   }
  },
  {
   "cell_type": "code",
   "execution_count": 31,
   "outputs": [
    {
     "data": {
      "text/plain": "[1, 2, 3, 4]"
     },
     "execution_count": 31,
     "metadata": {},
     "output_type": "execute_result"
    }
   ],
   "source": [
    "# Return identity with boundary constrain\n",
    "lst_comp_3 = [k for k in L_comp if k < 5]\n",
    "lst_comp_3"
   ],
   "metadata": {
    "collapsed": false,
    "pycharm": {
     "name": "#%%\n"
    }
   }
  },
  {
   "cell_type": "code",
   "execution_count": 32,
   "outputs": [
    {
     "data": {
      "text/plain": "['aa', 'ab', 'bb', 'bc']"
     },
     "execution_count": 32,
     "metadata": {},
     "output_type": "execute_result"
    }
   ],
   "source": [
    "lst_comp_str_1 = [any_loop_name for any_loop_name in L_comp_str]\n",
    "lst_comp_str_1\n"
   ],
   "metadata": {
    "collapsed": false,
    "pycharm": {
     "name": "#%%\n"
    }
   }
  },
  {
   "cell_type": "markdown",
   "source": [
    "### Exercise: List Comprehension"
   ],
   "metadata": {
    "collapsed": false
   }
  },
  {
   "cell_type": "code",
   "execution_count": 41,
   "outputs": [
    {
     "data": {
      "text/plain": "['aa', 'ab']"
     },
     "execution_count": 41,
     "metadata": {},
     "output_type": "execute_result"
    }
   ],
   "source": [
    "# Compute the square of the list and return the elements below 20\n",
    "L_comp = [k*k for k in L_comp if k*k < 20]\n",
    "L_comp\n",
    "\n",
    "\n",
    "# Return the elements of the list that contain an 'a'\n",
    "lst_comp_str_2 = [any_loop_name for any_loop_name in L_comp_str if 'a' in any_loop_name]\n",
    "lst_comp_str_2\n"
   ],
   "metadata": {
    "collapsed": false,
    "pycharm": {
     "name": "#%%\n"
    }
   }
  },
  {
   "cell_type": "markdown",
   "source": [
    "### Some Additional Methods"
   ],
   "metadata": {
    "collapsed": false,
    "pycharm": {
     "name": "#%% md\n"
    }
   }
  },
  {
   "cell_type": "code",
   "execution_count": null,
   "outputs": [],
   "source": [
    "'''\n",
    "append()    Add an element to the end of the list\n",
    "extend()    Add all elements of a list to the another list\n",
    "insert()    Insert an item at the defined index\n",
    "remove()    Removes an item from the list\n",
    "\n",
    "pop()       Removes and returns an element at the given index\n",
    "clear()     Removes all items from the list\n",
    "index()     Returns the index of the first matched item\n",
    "count()     Returns the count of the number of items passed as an argument\n",
    "sort()      Sort items in a list in ascending order\n",
    "reverse()   Reverse the order of items in the list\n",
    "copy()      Returns a shallow copy of the list\n",
    "'''\n",
    "\n"
   ],
   "metadata": {
    "collapsed": false,
    "pycharm": {
     "name": "#%%\n"
    }
   }
  },
  {
   "cell_type": "markdown",
   "source": [
    "### Final Exercises"
   ],
   "metadata": {
    "collapsed": false
   }
  },
  {
   "cell_type": "code",
   "execution_count": null,
   "outputs": [],
   "source": [
    "# 0 ) Return the number of elements of the following list.\n",
    "lst = [1, 2, 'banana', 5, 7, 88, 'potato', 1, 44, 'tomato', 'grapes']\n",
    "len(lst)\n",
    "\n",
    "\n",
    "# 1) Create two lists one with 10 ascending even and odd numbers respectively\n",
    "lst_even = [2*i for i in range(0, 10)]\n",
    "lst_odd = [(2*i)+1 for i in range(0, 10)]\n",
    "\n",
    "\n",
    "# 2) Given the list lst_even. Select every second element of the list.\n",
    "lst = [i for i in range(10)]\n",
    "lst_second = lst[::2]\n",
    "\n",
    "\n",
    "# 3) Given the following list. Check how many times x = 2 occurs and return the corresponding index\n",
    "#    Hint: Lookup the enumerate() function and use a list comprehension\n",
    "lst = [2, 4, 5, 2, 5, 2, 2, 5, 8, 10]\n",
    "\n",
    "lst.count(2)\n",
    "indices = [i for i, x in enumerate(lst) if x == 2]\n",
    "\n",
    "\n",
    "# 4) Given the following list, sort the elements in descending order and select all elements below 10\n",
    "lst = [2, 44, 5, 2, 5, 42, 2, 33, 1, 10]\n",
    "lst.sort(reverse=True)\n",
    "lst_below = [i for i in lst if i < 10]\n",
    "\n",
    "\n",
    "# Homework\n",
    "# Generate the first 100 prime numbers. Use the Sieve of Eratosthenes\n",
    "# https://www.python-kurs.eu/list_comprehension.php'\n",
    "lst_not_primes = [j for i in range(2, 8) for j in range(i*2, 100, i)]\n",
    "lst_primes = [x for x in range(2, 100) if x not in lst_not_primes]\n",
    "\n"
   ],
   "metadata": {
    "collapsed": false,
    "pycharm": {
     "name": "#%%\n"
    }
   }
  },
  {
   "cell_type": "markdown",
   "source": [
    "<br/>"
   ],
   "metadata": {
    "collapsed": false
   }
  },
  {
   "cell_type": "markdown",
   "source": [
    "## Dictionaries\n",
    "\n",
    "- mutable data structures, i.e. can be altered\n",
    "\n",
    "- indexed but unordered\n",
    "\n",
    "- dictionaries work with key-value pairs\n",
    "\n"
   ],
   "metadata": {
    "collapsed": false
   }
  },
  {
   "cell_type": "markdown",
   "source": [
    "### Create a dictionary"
   ],
   "metadata": {
    "collapsed": false
   }
  },
  {
   "cell_type": "code",
   "execution_count": 43,
   "outputs": [],
   "source": [
    "dict_1 = {\n",
    "    \"key_1\": [1, 2, 3, 4, 5],\n",
    "    \"key_2\": \"Mustang\",\n",
    "    \"key_3\": 1964\n",
    "}\n",
    "\n",
    "dict_2 = {\n",
    "    \"key_3\": [13, 22, 31, 44, 53],\n",
    "    \"key_4\": [12, 33],\n",
    "    \"key_5\": 1264\n",
    "}\n",
    "\n",
    "dict_3 = {\n",
    "    \"key_1\": [13, 22, 31, 44, 53],\n",
    "    \"key_3\": \"Ford\",\n",
    "    \"key_5\": 1264\n",
    "}\n",
    "\n",
    "dict_4 = {\n",
    "    \"key_1\": 1,\n",
    "    \"key_3\": -12,\n",
    "    \"key_5\": 3,\n",
    "    \"key_6\": -7,\n",
    "    \"key_7\": -3\n",
    "}\n"
   ],
   "metadata": {
    "collapsed": false,
    "pycharm": {
     "name": "#%%\n"
    }
   }
  },
  {
   "cell_type": "markdown",
   "source": [
    "### Access elements in a dictionary"
   ],
   "metadata": {
    "collapsed": false
   }
  },
  {
   "cell_type": "code",
   "execution_count": 45,
   "outputs": [
    {
     "data": {
      "text/plain": "3"
     },
     "execution_count": 45,
     "metadata": {},
     "output_type": "execute_result"
    }
   ],
   "source": [
    "dict_1['key_1']         # by key"
   ],
   "metadata": {
    "collapsed": false,
    "pycharm": {
     "name": "#%%\n"
    }
   }
  },
  {
   "cell_type": "code",
   "execution_count": null,
   "outputs": [],
   "source": [
    "dict_1['key_1'][2]      # with nested objects"
   ],
   "metadata": {
    "collapsed": false,
    "pycharm": {
     "name": "#%%\n"
    }
   }
  },
  {
   "cell_type": "code",
   "execution_count": null,
   "outputs": [],
   "source": [
    "dict_1.get('key_2')     # by get() method"
   ],
   "metadata": {
    "collapsed": false,
    "pycharm": {
     "name": "#%%\n"
    }
   }
  },
  {
   "cell_type": "markdown",
   "source": [
    "### Handling dictionaries"
   ],
   "metadata": {
    "collapsed": false
   }
  },
  {
   "cell_type": "markdown",
   "source": [
    "#### Add elements"
   ],
   "metadata": {
    "collapsed": false,
    "pycharm": {
     "name": "#%% md\n"
    }
   }
  },
  {
   "cell_type": "code",
   "execution_count": null,
   "outputs": [],
   "source": [
    "dict_1['new_key'] = [1, 3, 56]  # by specifying key and value\n",
    "\n",
    "dict_1.update(dict_2)           # Adding a dictionary to another dictionary\n",
    "\n",
    "dict_1.update(dict_3)           # updating dictionary overwrites old keys with values of new key & values\n"
   ],
   "metadata": {
    "collapsed": false,
    "pycharm": {
     "name": "#%%\n"
    }
   }
  },
  {
   "cell_type": "markdown",
   "source": [
    "#### Delete elements"
   ],
   "metadata": {
    "collapsed": false
   }
  },
  {
   "cell_type": "code",
   "execution_count": null,
   "outputs": [],
   "source": [
    "dict_1.pop('key_1')  # removes key and values and print the deleted value\n",
    "\n",
    "del dict_1['key_3']  # using del operator"
   ],
   "metadata": {
    "collapsed": false,
    "pycharm": {
     "name": "#%%\n"
    }
   }
  },
  {
   "cell_type": "markdown",
   "source": [
    "#### Change elements"
   ],
   "metadata": {
    "collapsed": false
   }
  },
  {
   "cell_type": "code",
   "execution_count": null,
   "outputs": [],
   "source": [
    "# Change value given a key\n",
    "dict_1['key_2'] = 123\n",
    "\n",
    "# method 1: change keys by creating a new one and delete the old one\n",
    "dict_1['new_key'] = dict_1['key_2']\n",
    "del dict_1['key_2']\n",
    "\n",
    "# method 2: change keys with pop()\n",
    "dict_1['new_key'] = dict_1.pop('key_2')\n"
   ],
   "metadata": {
    "collapsed": false,
    "pycharm": {
     "name": "#%%\n"
    }
   }
  },
  {
   "cell_type": "markdown",
   "source": [
    "#### Iterate over a dictionary"
   ],
   "metadata": {
    "collapsed": false,
    "pycharm": {
     "name": "#%% md\n"
    }
   }
  },
  {
   "cell_type": "code",
   "execution_count": null,
   "outputs": [],
   "source": [
    "# Iterate over the keys, returns keys only\n",
    "\n",
    "for key in dict_1:\n",
    "    print(key)"
   ],
   "metadata": {
    "collapsed": false,
    "pycharm": {
     "name": "#%%\n"
    }
   }
  },
  {
   "cell_type": "code",
   "execution_count": null,
   "outputs": [],
   "source": [
    "# Iterate over the values, returns values only\n",
    "\n",
    "for values in dict_1.values():\n",
    "    print(values)"
   ],
   "metadata": {
    "collapsed": false,
    "pycharm": {
     "name": "#%%\n"
    }
   }
  },
  {
   "cell_type": "code",
   "execution_count": null,
   "outputs": [],
   "source": [
    "# Iterate over dictionary items, returns both key and values as a pair\n",
    "\n",
    "for items in dict_1.items():\n",
    "    print(items)"
   ],
   "metadata": {
    "collapsed": false,
    "pycharm": {
     "name": "#%%\n"
    }
   }
  },
  {
   "cell_type": "code",
   "execution_count": null,
   "outputs": [],
   "source": [
    "# Iterate over dictionary items, returns both key and values as a pair\n",
    "\n",
    "for key, value in dict_1.items():\n",
    "    print(key, value)"
   ],
   "metadata": {
    "collapsed": false,
    "pycharm": {
     "name": "#%%\n"
    }
   }
  },
  {
   "cell_type": "markdown",
   "source": [
    "#### Create a dictionary"
   ],
   "metadata": {
    "collapsed": false
   }
  },
  {
   "cell_type": "code",
   "execution_count": null,
   "outputs": [],
   "source": [
    "# Using curly bracket\n",
    "\n",
    "dict_create = {\n",
    "    \"key_1\": [1, 2, 3, 4, 5],\n",
    "    \"key_2\": \"Mustang\",\n",
    "    \"key_3\": 1964\n",
    "}"
   ],
   "metadata": {
    "collapsed": false,
    "pycharm": {
     "name": "#%%\n"
    }
   }
  },
  {
   "cell_type": "code",
   "execution_count": null,
   "outputs": [],
   "source": [
    "# using dict() constructor\n",
    "\n",
    "dict_dict = dict(key_1=\"banana\", key_2=\"grape\", key_3=12321)  # key = value"
   ],
   "metadata": {
    "collapsed": false,
    "pycharm": {
     "name": "#%%\n"
    }
   }
  },
  {
   "cell_type": "code",
   "execution_count": null,
   "outputs": [],
   "source": [
    "# dict comprehension (CURLY brackets!)\n",
    "\n",
    "a = {key: 1 for key in dict_1}\n",
    "\n",
    "b = [k for (k, v) in dict_4.items() if v == 0]\n",
    "c_keys = {k for (k, v) in dict_4.items() if k == \"key_1\"}\n",
    "c_values = {v for (k, v) in dict_4.items() if v < 0}"
   ],
   "metadata": {
    "collapsed": false,
    "pycharm": {
     "name": "#%%\n"
    }
   }
  },
  {
   "cell_type": "code",
   "execution_count": null,
   "outputs": [],
   "source": [
    "# with a for loop\n",
    "\n",
    "dicts = {}\n",
    "keys = range(4)\n",
    "values = [\"Hi\", \"I\", \"am\", \"Dennis\"]\n",
    "for i in keys:\n",
    "    dicts[i] = values[i]\n",
    "print(dicts)\n"
   ],
   "metadata": {
    "collapsed": false,
    "pycharm": {
     "name": "#%%\n"
    }
   }
  },
  {
   "cell_type": "markdown",
   "source": [
    "### Some Additional Methods"
   ],
   "metadata": {
    "collapsed": false
   }
  },
  {
   "cell_type": "code",
   "execution_count": null,
   "outputs": [],
   "source": [
    "'''\n",
    "clear()\t        Removes all the elements from the dictionary\n",
    "copy()\t        Returns a copy of the dictionary\n",
    "fromkeys()      Returns a dictionary with the specified keys and value\n",
    "get()\t        Returns the value of the specified key\n",
    "items()\t        Returns a list containing a tuple for each key value pair\n",
    "keys()\t        Returns a list containing the dictionary's keys\n",
    "pop()\t        Removes the element with the specified key\n",
    "popitem()       Removes the last inserted key-value pair\n",
    "setdefault()    Returns the value of the specified key. If the key does not exist: insert the key, with the specified value\n",
    "update()        Updates the dictionary with the specified key-value pairs\n",
    "values()        Returns a list of all the values in the dictionary\n",
    "'''\n"
   ],
   "metadata": {
    "collapsed": false,
    "pycharm": {
     "name": "#%%\n"
    }
   }
  },
  {
   "cell_type": "markdown",
   "source": [
    "### Final Exercises"
   ],
   "metadata": {
    "collapsed": false
   }
  },
  {
   "cell_type": "code",
   "execution_count": null,
   "outputs": [],
   "source": [
    "# 1 Create a empty dictionary called dct\n",
    "dct = {}\n",
    "\n",
    "# 2 Add the pairs “apple” and 1, “banana” and 2.0, and “cherry” and “iii”\n",
    "dct['apple'] = 1  # method 1: direct assignment\n",
    "dct['banana'] = 2.0\n",
    "dct['cherry'] = \"iii\"\n",
    "\n",
    "# method 2: Use two lists with dict() constructor and zip() method\n",
    "keys = ['apple', 'banana', 'cherry']\n",
    "values = [1, 2.0, 'iii']\n",
    "dct = dict(zip(keys, values))\n",
    "\n",
    "# 3 Replace the value of “apple” with “I”\n",
    "dct['apple'] = \"I\"\n",
    "\n",
    "# 4 Remove the entry for “banana”\n",
    "del dct['banana']\n",
    "\n",
    "# 5 Add an entry “date” with the value 4\n",
    "dct['date'] = 4\n",
    "\n",
    "# 6 Return number of keys, print all keys\n",
    "dct.keys()\n",
    "len((dct.keys()))\n",
    "\n",
    "# 7 Return the keys and the count of the corresponding values given the following list\n",
    "#   i.e. Given {key_1 : 1, 2, 3, 4, 5}  =>  key_1 : 5\n",
    "dict_ex_1 = {\n",
    "    \"key_3\": [13, 22, 31, 44, 53],\n",
    "    \"key_4\": [12, 33],\n",
    "    \"key_5\": [12, 2, 3, 4, 5]\n",
    "}\n",
    "\n",
    "dict_ex_2 = {\n",
    "    \"key_3\": [13, 22, 31, 44, 53],\n",
    "    \"key_4\": [12, 33],\n",
    "    \"key_5\": 'word'\n",
    "}\n",
    "\n",
    "dict_ex_3 = {\n",
    "    \"key_3\": [13, 22, 31, 44, 53],\n",
    "    \"key_4\": [12, 33],\n",
    "    \"key_5\": 11\n",
    "}\n",
    "\n",
    "[len(count) for count in dict_ex_1.values()]  # works for dictionary values that consists only(!) list\n",
    "[len(count) for count in dict_ex_2.values()]  # works for dictionary values that also contains strings\n",
    "[len(count) for count in dict_ex_3.values()]  # error for dictionary values that contains one(!) integer"
   ],
   "metadata": {
    "collapsed": false,
    "pycharm": {
     "name": "#%%\n"
    }
   }
  }
 ],
 "metadata": {
  "kernelspec": {
   "display_name": "Python 3",
   "language": "python",
   "name": "python3"
  },
  "language_info": {
   "codemirror_mode": {
    "name": "ipython",
    "version": 2
   },
   "file_extension": ".py",
   "mimetype": "text/x-python",
   "name": "python",
   "nbconvert_exporter": "python",
   "pygments_lexer": "ipython2",
   "version": "2.7.6"
  }
 },
 "nbformat": 4,
 "nbformat_minor": 0
}