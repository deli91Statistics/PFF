{
 "cells": [
  {
   "cell_type": "markdown",
   "metadata": {},
   "source": [
    "# Modelling stock returns and volatility\n"
   ]
  },
  {
   "cell_type": "markdown",
   "metadata": {},
   "source": [
    "## Procedure\n",
    "\n",
    "Building a volatility model consists of several steps.\n",
    "\n",
    "1. Specify the mean equation. In our case, we need to investigate the mean of our returns and check for serial\n",
    "dependence. If required, we can fit a model and remove linear dependence structures through filtering. Technically,\n",
    "we can stop here and use the model to do forecasts, however, we have seen that volatility changes over time and needs\n",
    "adequate treatment.\n",
    "\n",
    "2. In the next step, test the residuals for ARCH/GARCH effects and specify a volatility model. In most cases, a low order\n",
    "GARCH model is used, e.g. GARCH(1,1)."
   ]
  },
  {
   "cell_type": "markdown",
   "metadata": {},
   "source": [
    "## Setup - Data Foundation and Return Series\n",
    "\n",
    "In the first step, load the data, compute log-returns and visualize the data."
   ]
  },
  {
   "cell_type": "code",
   "execution_count": 1,
   "metadata": {
    "pycharm": {
     "name": "#%%\n"
    }
   },
   "outputs": [],
   "source": [
    "import matplotlib.pyplot as plt\n",
    "import numpy as np\n",
    "import pandas as pd\n",
    "\n",
    "from statsmodels.graphics.tsaplots import plot_acf\n",
    "from statsmodels.stats.diagnostic import acorr_ljungbox\n",
    "from statsmodels.tsa.stattools import adfuller\n",
    "from statsmodels.tsa.arima_model import ARIMA\n",
    "\n",
    "from arch import arch_model\n"
   ]
  },
  {
   "cell_type": "code",
   "execution_count": 2,
   "metadata": {
    "pycharm": {
     "name": "#%%\n"
    }
   },
   "outputs": [],
   "source": [
    "# Load Data and set index\n",
    "df_price = pd.read_csv('GDAX.csv')\n",
    "df_price['Date'] = pd.to_datetime(df_price['Date'])\n",
    "df_price.set_index('Date', inplace=True)\n",
    "\n",
    "# Select Column\n",
    "col_name = 'Adj Close'\n",
    "\n",
    "# Compute Returns and Log-Returns\n",
    "df_returns = df_price[col_name].pct_change().dropna()\n",
    "log_return_adj_close = np.log(df_price[col_name]).diff(1).dropna()"
   ]
  },
  {
   "cell_type": "code",
   "execution_count": 3,
   "metadata": {},
   "outputs": [
    {
     "data": {
      "image/png": "[encoded data removed]",
      "text/plain": [
       "<Figure size 432x288 with 1 Axes>"
      ]
     },
     "metadata": {
      "needs_background": "light"
     },
     "output_type": "display_data"
    }
   ],
   "source": [
    "# Plot return series\n",
    "plt.plot(log_return_adj_close)\n",
    "plt.show()"
   ]
  },
  {
   "cell_type": "code",
   "execution_count": 4,
   "metadata": {},
   "outputs": [],
   "source": [
    "# log_return_adj_close.index = pd.DatetimeIndex(log_return_adj_close.index).to_period('D')"
   ]
  },
  {
   "cell_type": "code",
   "execution_count": 5,
   "metadata": {},
   "outputs": [],
   "source": [
    "# log_return_adj_close.index"
   ]
  },
  {
   "cell_type": "markdown",
   "metadata": {},
   "source": [
    "As was mentioned in the previous lectures, we can clearly see volatility clusters which are characteristic for\n",
    "financial time series.\n"
   ]
  },
  {
   "cell_type": "markdown",
   "metadata": {
    "pycharm": {
     "name": "#%% md\n"
    }
   },
   "source": [
    "## Test for Stationarity: Augmented Dickey Fuller\n",
    "\n",
    "Computing (net) returns corresponds to differencing and normalization. Therefore, we may assume that the\n",
    "time series is stationary. Nevertheless, verify this by the Augmented-Dickey Fuller test which is a statistical test\n",
    "whether unit roots (Nullstelle) are present. In particular, it tests if the autoregressive part of the model has\n",
    "a coefficient that is equal to one.\n",
    "\n",
    "<br>\n",
    "\n",
    "$H_0:$ the series follows a unit-root process <br/>\n",
    "$H_1:$ the data is (trend-)stationary <center>"
   ]
  },
  {
   "cell_type": "code",
   "execution_count": 6,
   "metadata": {
    "pycharm": {
     "name": "#%%\n"
    }
   },
   "outputs": [
    {
     "data": {
      "text/plain": [
       "(-33.05544657271088,\n",
       " 0.0,\n",
       " 4,\n",
       " 4789,\n",
       " {'1%': -3.4317162160324406,\n",
       "  '5%': -2.8621437138975274,\n",
       "  '10%': -2.5670913586453366},\n",
       " -26677.524574216943)"
      ]
     },
     "execution_count": 6,
     "metadata": {},
     "output_type": "execute_result"
    }
   ],
   "source": [
    "adfuller(log_return_adj_close)"
   ]
  },
  {
   "cell_type": "markdown",
   "metadata": {},
   "source": [
    "The first value of the output is the ADF-Statistic, the second line displays the p-value. Clearly, $H_0$ is rejected\n",
    "with a diminishing p-value which implies stationarity of our time series data sample.\n",
    "\n",
    "For more details on ADF see\n",
    "https://www.statsmodels.org/dev/generated/statsmodels.tsa.stattools.adfuller.html\n"
   ]
  },
  {
   "cell_type": "markdown",
   "metadata": {},
   "source": [
    "## Test for Serial Correlation: Ljung-Box Test"
   ]
  },
  {
   "cell_type": "markdown",
   "metadata": {},
   "source": [
    "Next, plot the acf function and see if any lags are significant by eye-balling it. Note that simply showing\n",
    "the correlogram is not sufficient if you wish to deliver a well-founded statistical analysis."
   ]
  },
  {
   "cell_type": "code",
   "execution_count": 7,
   "metadata": {
    "pycharm": {
     "name": "#%%\n"
    }
   },
   "outputs": [
    {
     "data": {
      "image/png": "[encoded data removed]",
      "text/plain": [
       "<Figure size 432x288 with 1 Axes>"
      ]
     },
     "metadata": {
      "needs_background": "light"
     },
     "output_type": "display_data"
    }
   ],
   "source": [
    "acf_plt = plot_acf(log_return_adj_close)"
   ]
  },
  {
   "cell_type": "markdown",
   "metadata": {
    "pycharm": {
     "name": "#%% md\n"
    }
   },
   "source": [
    "Based on the plot it seems that the 2. and 3. lag are significant although only on a minor significance level. Again,\n",
    "employ a statistical test to check for serial correlation properly. One possible test is the so called\n",
    "Ljung-Box test.\n",
    "\n",
    "<br>\n",
    "\n",
    "$H_0:$ data sample is independently distributed <br/>\n",
    "$H_1:$ data sample exhibit serial correlation"
   ]
  },
  {
   "cell_type": "code",
   "execution_count": 8,
   "metadata": {
    "pycharm": {
     "name": "#%%\n"
    }
   },
   "outputs": [
    {
     "data": {
      "text/html": [
       "<div>\n",
       "<style scoped>\n",
       "    .dataframe tbody tr th:only-of-type {\n",
       "        vertical-align: middle;\n",
       "    }\n",
       "\n",
       "    .dataframe tbody tr th {\n",
       "        vertical-align: top;\n",
       "    }\n",
       "\n",
       "    .dataframe thead th {\n",
       "        text-align: right;\n",
       "    }\n",
       "</style>\n",
       "<table border=\"1\" class=\"dataframe\">\n",
       "  <thead>\n",
       "    <tr style=\"text-align: right;\">\n",
       "      <th></th>\n",
       "      <th>lb_stat</th>\n",
       "      <th>lb_pvalue</th>\n",
       "    </tr>\n",
       "  </thead>\n",
       "  <tbody>\n",
       "    <tr>\n",
       "      <th>1</th>\n",
       "      <td>1.067781</td>\n",
       "      <td>0.301447</td>\n",
       "    </tr>\n",
       "    <tr>\n",
       "      <th>2</th>\n",
       "      <td>2.567519</td>\n",
       "      <td>0.276994</td>\n",
       "    </tr>\n",
       "    <tr>\n",
       "      <th>3</th>\n",
       "      <td>4.771340</td>\n",
       "      <td>0.189327</td>\n",
       "    </tr>\n",
       "    <tr>\n",
       "      <th>4</th>\n",
       "      <td>5.839147</td>\n",
       "      <td>0.211487</td>\n",
       "    </tr>\n",
       "    <tr>\n",
       "      <th>5</th>\n",
       "      <td>20.005599</td>\n",
       "      <td>0.001247</td>\n",
       "    </tr>\n",
       "    <tr>\n",
       "      <th>6</th>\n",
       "      <td>20.049145</td>\n",
       "      <td>0.002714</td>\n",
       "    </tr>\n",
       "    <tr>\n",
       "      <th>7</th>\n",
       "      <td>20.937407</td>\n",
       "      <td>0.003864</td>\n",
       "    </tr>\n",
       "    <tr>\n",
       "      <th>8</th>\n",
       "      <td>22.732974</td>\n",
       "      <td>0.003725</td>\n",
       "    </tr>\n",
       "    <tr>\n",
       "      <th>9</th>\n",
       "      <td>23.804151</td>\n",
       "      <td>0.004622</td>\n",
       "    </tr>\n",
       "    <tr>\n",
       "      <th>10</th>\n",
       "      <td>24.803850</td>\n",
       "      <td>0.005730</td>\n",
       "    </tr>\n",
       "  </tbody>\n",
       "</table>\n",
       "</div>"
      ],
      "text/plain": [
       "      lb_stat  lb_pvalue\n",
       "1    1.067781   0.301447\n",
       "2    2.567519   0.276994\n",
       "3    4.771340   0.189327\n",
       "4    5.839147   0.211487\n",
       "5   20.005599   0.001247\n",
       "6   20.049145   0.002714\n",
       "7   20.937407   0.003864\n",
       "8   22.732974   0.003725\n",
       "9   23.804151   0.004622\n",
       "10  24.803850   0.005730"
      ]
     },
     "execution_count": 8,
     "metadata": {},
     "output_type": "execute_result"
    }
   ],
   "source": [
    "acorr_ljungbox(log_return_adj_close, lags = 10, return_df=True)"
   ]
  },
  {
   "cell_type": "markdown",
   "metadata": {
    "pycharm": {
     "name": "#%% md\n"
    }
   },
   "source": [
    "For $lag=1$, $H_0$ cannot be rejected hence the series is independently distributed. However, this cannot be said\n",
    "for higher lags. An interesting thing is that we actually don't rely entirely on these findings for model selection.\n",
    "In fact, model selection is done by using information criteria. However, the test hints to the correct model\n",
    "specification.\n"
   ]
  },
  {
   "cell_type": "markdown",
   "metadata": {},
   "source": [
    "## Model Selection Part 1: Information Criteria\n",
    "\n",
    "We aim to use a statistical model in order to predict future value. The typical question is, how do we choose?\n",
    "Model selection is done from an information-theoretic point of view. Finding the right is always a trade-off\n",
    "between fit and complexity. The more complex your model is the better the fit, however this might worsen the\n",
    "prediction capabilities.\n",
    "\n",
    "<br>\n",
    "\n",
    "The Akaike Information Criterion (AIC) is defined as\n",
    "\n",
    "$$AIC = -2l(\\hat{\\theta}) + 2p$$\n",
    "\n",
    "<br>\n",
    "\n",
    "where ***$\\theta$*** is the vector of estimated parameters and $p$ the number of parameters. Thus, we penalize the\n",
    "model as it becomes too complex. The Akaike information criterion is actually an estimate of information loss. It\n",
    "changes with increasing sample size.\n",
    "\n",
    "<br>\n",
    "\n",
    "Consider the Bayesian Information Criterion (BIC)\n",
    "\n",
    "$$BIC = -2l(\\hat{\\theta}) + P log(n)$$\n",
    "\n",
    "Without going into details, the BIC information criterion compares the models at hand with a benchmark. Once the\n",
    "sample size tends to infinity, BIC will select the asymptotic true model.\n",
    "\n",
    "For detailed introduction see [1], [2] and [A].\n",
    "\n",
    "<br>\n",
    "\n",
    "Bottom line: Use the BIC with large sample sizes and AIC for smaller sample sizes. Among the models select that model\n",
    "with the smallest information criterion."
   ]
  },
  {
   "cell_type": "markdown",
   "metadata": {},
   "source": [
    "## Model Selection Part 2: Selecting the right model\n",
    "\n",
    "For the choice of arima models: fit several models and choose the on with the \"best\" information criterion."
   ]
  },
  {
   "cell_type": "code",
   "execution_count": 9,
   "metadata": {
    "pycharm": {
     "name": "#%%\n"
    }
   },
   "outputs": [
    {
     "name": "stdout",
     "output_type": "stream",
     "text": [
      "                              ARMA Model Results                              \n",
      "==============================================================================\n",
      "Dep. Variable:              Adj Close   No. Observations:                 4794\n",
      "Model:                     ARMA(1, 0)   Log Likelihood               13412.304\n",
      "Method:                       css-mle   S.D. of innovations              0.015\n",
      "Date:                Fri, 10 Sep 2021   AIC                         -26818.609\n",
      "Time:                        12:22:49   BIC                         -26799.184\n",
      "Sample:                             0   HQIC                        -26811.786\n",
      "                                                                              \n",
      "===================================================================================\n",
      "                      coef    std err          z      P>|z|      [0.025      0.975]\n",
      "-----------------------------------------------------------------------------------\n",
      "const            7.134e-05      0.000      0.340      0.734      -0.000       0.000\n",
      "ar.L1.Adj Close    -0.0149      0.014     -1.033      0.302      -0.043       0.013\n",
      "                                    Roots                                    \n",
      "=============================================================================\n",
      "                  Real          Imaginary           Modulus         Frequency\n",
      "-----------------------------------------------------------------------------\n",
      "AR.1          -67.0121           +0.0000j           67.0121            0.5000\n",
      "-----------------------------------------------------------------------------\n"
     ]
    },
    {
     "name": "stderr",
     "output_type": "stream",
     "text": [
      "/home/dm/Desktop/PFF/venv/lib/python3.7/site-packages/statsmodels/tsa/arima_model.py:472: FutureWarning: \n",
      "statsmodels.tsa.arima_model.ARMA and statsmodels.tsa.arima_model.ARIMA have\n",
      "been deprecated in favor of statsmodels.tsa.arima.model.ARIMA (note the .\n",
      "between arima and model) and\n",
      "statsmodels.tsa.SARIMAX. These will be removed after the 0.12 release.\n",
      "\n",
      "statsmodels.tsa.arima.model.ARIMA makes use of the statespace framework and\n",
      "is both well tested and maintained.\n",
      "\n",
      "To silence this warning and continue using ARMA and ARIMA until they are\n",
      "removed, use:\n",
      "\n",
      "import warnings\n",
      "warnings.filterwarnings('ignore', 'statsmodels.tsa.arima_model.ARMA',\n",
      "                        FutureWarning)\n",
      "warnings.filterwarnings('ignore', 'statsmodels.tsa.arima_model.ARIMA',\n",
      "                        FutureWarning)\n",
      "\n",
      "  warnings.warn(ARIMA_DEPRECATION_WARN, FutureWarning)\n",
      "/home/dm/Desktop/PFF/venv/lib/python3.7/site-packages/statsmodels/tsa/base/tsa_model.py:583: ValueWarning: A date index has been provided, but it has no associated frequency information and so will be ignored when e.g. forecasting.\n",
      "  ' ignored when e.g. forecasting.', ValueWarning)\n"
     ]
    }
   ],
   "source": [
    "# Fit to AR(1) model & print AIC):\n",
    "\n",
    "mod_ar1 = ARIMA(log_return_adj_close, order=(1,0,0), freq=None)\n",
    "res_ar1 = mod_ar1.fit()\n",
    "print(res_ar1.summary())"
   ]
  },
  {
   "cell_type": "code",
   "execution_count": 10,
   "metadata": {
    "pycharm": {
     "name": "#%%\n"
    }
   },
   "outputs": [
    {
     "name": "stderr",
     "output_type": "stream",
     "text": [
      "/home/dm/Desktop/PFF/venv/lib/python3.7/site-packages/statsmodels/tsa/arima_model.py:472: FutureWarning: \n",
      "statsmodels.tsa.arima_model.ARMA and statsmodels.tsa.arima_model.ARIMA have\n",
      "been deprecated in favor of statsmodels.tsa.arima.model.ARIMA (note the .\n",
      "between arima and model) and\n",
      "statsmodels.tsa.SARIMAX. These will be removed after the 0.12 release.\n",
      "\n",
      "statsmodels.tsa.arima.model.ARIMA makes use of the statespace framework and\n",
      "is both well tested and maintained.\n",
      "\n",
      "To silence this warning and continue using ARMA and ARIMA until they are\n",
      "removed, use:\n",
      "\n",
      "import warnings\n",
      "warnings.filterwarnings('ignore', 'statsmodels.tsa.arima_model.ARMA',\n",
      "                        FutureWarning)\n",
      "warnings.filterwarnings('ignore', 'statsmodels.tsa.arima_model.ARIMA',\n",
      "                        FutureWarning)\n",
      "\n",
      "  warnings.warn(ARIMA_DEPRECATION_WARN, FutureWarning)\n",
      "/home/dm/Desktop/PFF/venv/lib/python3.7/site-packages/statsmodels/tsa/base/tsa_model.py:583: ValueWarning: A date index has been provided, but it has no associated frequency information and so will be ignored when e.g. forecasting.\n",
      "  ' ignored when e.g. forecasting.', ValueWarning)\n"
     ]
    },
    {
     "name": "stdout",
     "output_type": "stream",
     "text": [
      "                              ARMA Model Results                              \n",
      "==============================================================================\n",
      "Dep. Variable:              Adj Close   No. Observations:                 4794\n",
      "Model:                     ARMA(2, 0)   Log Likelihood               13413.074\n",
      "Method:                       css-mle   S.D. of innovations              0.015\n",
      "Date:                Fri, 10 Sep 2021   AIC                         -26818.148\n",
      "Time:                        12:22:49   BIC                         -26792.247\n",
      "Sample:                             0   HQIC                        -26809.051\n",
      "                                                                              \n",
      "===================================================================================\n",
      "                      coef    std err          z      P>|z|      [0.025      0.975]\n",
      "-----------------------------------------------------------------------------------\n",
      "const             7.15e-05      0.000      0.347      0.729      -0.000       0.000\n",
      "ar.L1.Adj Close    -0.0152      0.014     -1.052      0.293      -0.044       0.013\n",
      "ar.L2.Adj Close    -0.0179      0.014     -1.241      0.215      -0.046       0.010\n",
      "                                    Roots                                    \n",
      "=============================================================================\n",
      "                  Real          Imaginary           Modulus         Frequency\n",
      "-----------------------------------------------------------------------------\n",
      "AR.1           -0.4238           -7.4569j            7.4690           -0.2590\n",
      "AR.2           -0.4238           +7.4569j            7.4690            0.2590\n",
      "-----------------------------------------------------------------------------\n"
     ]
    }
   ],
   "source": [
    "# Fit to AR(2) model & print AIC):\n",
    "\n",
    "mod_ar2 = ARIMA(log_return_adj_close, order=(2,0,0))\n",
    "res_ar2 = mod_ar2.fit()\n",
    "print(res_ar2.summary())"
   ]
  },
  {
   "cell_type": "code",
   "execution_count": 11,
   "metadata": {
    "pycharm": {
     "name": "#%%\n"
    }
   },
   "outputs": [
    {
     "name": "stderr",
     "output_type": "stream",
     "text": [
      "/home/dm/Desktop/PFF/venv/lib/python3.7/site-packages/statsmodels/tsa/arima_model.py:472: FutureWarning: \n",
      "statsmodels.tsa.arima_model.ARMA and statsmodels.tsa.arima_model.ARIMA have\n",
      "been deprecated in favor of statsmodels.tsa.arima.model.ARIMA (note the .\n",
      "between arima and model) and\n",
      "statsmodels.tsa.SARIMAX. These will be removed after the 0.12 release.\n",
      "\n",
      "statsmodels.tsa.arima.model.ARIMA makes use of the statespace framework and\n",
      "is both well tested and maintained.\n",
      "\n",
      "To silence this warning and continue using ARMA and ARIMA until they are\n",
      "removed, use:\n",
      "\n",
      "import warnings\n",
      "warnings.filterwarnings('ignore', 'statsmodels.tsa.arima_model.ARMA',\n",
      "                        FutureWarning)\n",
      "warnings.filterwarnings('ignore', 'statsmodels.tsa.arima_model.ARIMA',\n",
      "                        FutureWarning)\n",
      "\n",
      "  warnings.warn(ARIMA_DEPRECATION_WARN, FutureWarning)\n",
      "/home/dm/Desktop/PFF/venv/lib/python3.7/site-packages/statsmodels/tsa/base/tsa_model.py:583: ValueWarning: A date index has been provided, but it has no associated frequency information and so will be ignored when e.g. forecasting.\n",
      "  ' ignored when e.g. forecasting.', ValueWarning)\n"
     ]
    },
    {
     "name": "stdout",
     "output_type": "stream",
     "text": [
      "                              ARMA Model Results                              \n",
      "==============================================================================\n",
      "Dep. Variable:              Adj Close   No. Observations:                 4794\n",
      "Model:                     ARMA(0, 1)   Log Likelihood               13412.325\n",
      "Method:                       css-mle   S.D. of innovations              0.015\n",
      "Date:                Fri, 10 Sep 2021   AIC                         -26818.649\n",
      "Time:                        12:22:49   BIC                         -26799.224\n",
      "Sample:                             0   HQIC                        -26811.826\n",
      "                                                                              \n",
      "===================================================================================\n",
      "                      coef    std err          z      P>|z|      [0.025      0.975]\n",
      "-----------------------------------------------------------------------------------\n",
      "const            7.134e-05      0.000      0.340      0.734      -0.000       0.000\n",
      "ma.L1.Adj Close    -0.0155      0.015     -1.052      0.293      -0.044       0.013\n",
      "                                    Roots                                    \n",
      "=============================================================================\n",
      "                  Real          Imaginary           Modulus         Frequency\n",
      "-----------------------------------------------------------------------------\n",
      "MA.1           64.5574           +0.0000j           64.5574            0.0000\n",
      "-----------------------------------------------------------------------------\n"
     ]
    }
   ],
   "source": [
    "# Fit to MA(1) model & print AIC):\n",
    "\n",
    "mod_ma1 = ARIMA(log_return_adj_close, order=(0,0,1))\n",
    "res_ma1 = mod_ma1.fit()\n",
    "print(res_ma1.summary())"
   ]
  },
  {
   "cell_type": "code",
   "execution_count": 12,
   "metadata": {
    "pycharm": {
     "name": "#%%\n"
    }
   },
   "outputs": [
    {
     "name": "stderr",
     "output_type": "stream",
     "text": [
      "/home/dm/Desktop/PFF/venv/lib/python3.7/site-packages/statsmodels/tsa/arima_model.py:472: FutureWarning: \n",
      "statsmodels.tsa.arima_model.ARMA and statsmodels.tsa.arima_model.ARIMA have\n",
      "been deprecated in favor of statsmodels.tsa.arima.model.ARIMA (note the .\n",
      "between arima and model) and\n",
      "statsmodels.tsa.SARIMAX. These will be removed after the 0.12 release.\n",
      "\n",
      "statsmodels.tsa.arima.model.ARIMA makes use of the statespace framework and\n",
      "is both well tested and maintained.\n",
      "\n",
      "To silence this warning and continue using ARMA and ARIMA until they are\n",
      "removed, use:\n",
      "\n",
      "import warnings\n",
      "warnings.filterwarnings('ignore', 'statsmodels.tsa.arima_model.ARMA',\n",
      "                        FutureWarning)\n",
      "warnings.filterwarnings('ignore', 'statsmodels.tsa.arima_model.ARIMA',\n",
      "                        FutureWarning)\n",
      "\n",
      "  warnings.warn(ARIMA_DEPRECATION_WARN, FutureWarning)\n",
      "/home/dm/Desktop/PFF/venv/lib/python3.7/site-packages/statsmodels/tsa/base/tsa_model.py:583: ValueWarning: A date index has been provided, but it has no associated frequency information and so will be ignored when e.g. forecasting.\n",
      "  ' ignored when e.g. forecasting.', ValueWarning)\n"
     ]
    },
    {
     "name": "stdout",
     "output_type": "stream",
     "text": [
      "                              ARMA Model Results                              \n",
      "==============================================================================\n",
      "Dep. Variable:              Adj Close   No. Observations:                 4794\n",
      "Model:                     ARMA(1, 1)   Log Likelihood               13414.414\n",
      "Method:                       css-mle   S.D. of innovations              0.015\n",
      "Date:                Fri, 10 Sep 2021   AIC                         -26820.828\n",
      "Time:                        12:22:50   BIC                         -26794.928\n",
      "Sample:                             0   HQIC                        -26811.731\n",
      "                                                                              \n",
      "===================================================================================\n",
      "                      coef    std err          z      P>|z|      [0.025      0.975]\n",
      "-----------------------------------------------------------------------------------\n",
      "const             7.16e-05      0.000      0.369      0.712      -0.000       0.000\n",
      "ar.L1.Adj Close     0.7516      0.130      5.780      0.000       0.497       1.006\n",
      "ma.L1.Adj Close    -0.7735      0.125     -6.199      0.000      -1.018      -0.529\n",
      "                                    Roots                                    \n",
      "=============================================================================\n",
      "                  Real          Imaginary           Modulus         Frequency\n",
      "-----------------------------------------------------------------------------\n",
      "AR.1            1.3305           +0.0000j            1.3305            0.0000\n",
      "MA.1            1.2928           +0.0000j            1.2928            0.0000\n",
      "-----------------------------------------------------------------------------\n"
     ]
    }
   ],
   "source": [
    "# Fit to ARMA(1,1) model & print AIC:\n",
    "mod_arma11 = ARIMA(log_return_adj_close, order=(1,0,1))\n",
    "res_arma11 = mod_arma11.fit()\n",
    "print(res_arma11.summary())"
   ]
  },
  {
   "cell_type": "markdown",
   "metadata": {
    "pycharm": {
     "name": "#%% md\n"
    }
   },
   "source": [
    "As you we can see, almost all models have roughly the same information criterion values, e.g. AIC, for simplicity we will\n",
    "choose an ARMA(1,1) process to model our mean of the returns. If the model was specified correctly, the residuals should\n",
    "be white noise. Run the following diagnostics:"
   ]
  },
  {
   "cell_type": "code",
   "execution_count": 13,
   "metadata": {
    "pycharm": {
     "name": "#%%\n"
    }
   },
   "outputs": [
    {
     "data": {
      "text/plain": [
       "[<matplotlib.lines.Line2D at 0x7f22c91e3f50>]"
      ]
     },
     "execution_count": 13,
     "metadata": {},
     "output_type": "execute_result"
    },
    {
     "data": {
      "image/png": "[encoded data removed]",
      "text/plain": [
       "<Figure size 432x288 with 1 Axes>"
      ]
     },
     "metadata": {
      "needs_background": "light"
     },
     "output_type": "display_data"
    }
   ],
   "source": [
    "plt.plot(res_arma11.resid)"
   ]
  },
  {
   "cell_type": "code",
   "execution_count": 14,
   "metadata": {
    "pycharm": {
     "name": "#%%\n"
    }
   },
   "outputs": [
    {
     "data": {
      "image/png": "[encoded data removed]",
      "text/plain": [
       "<Figure size 432x288 with 1 Axes>"
      ]
     },
     "metadata": {
      "needs_background": "light"
     },
     "output_type": "display_data"
    }
   ],
   "source": [
    "acf_plt = plot_acf(res_arma11.resid)"
   ]
  },
  {
   "cell_type": "code",
   "execution_count": 15,
   "metadata": {
    "pycharm": {
     "name": "#%%\n"
    }
   },
   "outputs": [
    {
     "data": {
      "text/html": [
       "<div>\n",
       "<style scoped>\n",
       "    .dataframe tbody tr th:only-of-type {\n",
       "        vertical-align: middle;\n",
       "    }\n",
       "\n",
       "    .dataframe tbody tr th {\n",
       "        vertical-align: top;\n",
       "    }\n",
       "\n",
       "    .dataframe thead th {\n",
       "        text-align: right;\n",
       "    }\n",
       "</style>\n",
       "<table border=\"1\" class=\"dataframe\">\n",
       "  <thead>\n",
       "    <tr style=\"text-align: right;\">\n",
       "      <th></th>\n",
       "      <th>lb_stat</th>\n",
       "      <th>lb_pvalue</th>\n",
       "    </tr>\n",
       "  </thead>\n",
       "  <tbody>\n",
       "    <tr>\n",
       "      <th>1</th>\n",
       "      <td>0.171130</td>\n",
       "      <td>0.679109</td>\n",
       "    </tr>\n",
       "    <tr>\n",
       "      <th>2</th>\n",
       "      <td>0.188455</td>\n",
       "      <td>0.910076</td>\n",
       "    </tr>\n",
       "    <tr>\n",
       "      <th>3</th>\n",
       "      <td>0.616427</td>\n",
       "      <td>0.892662</td>\n",
       "    </tr>\n",
       "    <tr>\n",
       "      <th>4</th>\n",
       "      <td>3.177093</td>\n",
       "      <td>0.528639</td>\n",
       "    </tr>\n",
       "    <tr>\n",
       "      <th>5</th>\n",
       "      <td>13.656469</td>\n",
       "      <td>0.017945</td>\n",
       "    </tr>\n",
       "    <tr>\n",
       "      <th>6</th>\n",
       "      <td>13.674930</td>\n",
       "      <td>0.033486</td>\n",
       "    </tr>\n",
       "    <tr>\n",
       "      <th>7</th>\n",
       "      <td>15.105303</td>\n",
       "      <td>0.034673</td>\n",
       "    </tr>\n",
       "    <tr>\n",
       "      <th>8</th>\n",
       "      <td>17.437344</td>\n",
       "      <td>0.025864</td>\n",
       "    </tr>\n",
       "    <tr>\n",
       "      <th>9</th>\n",
       "      <td>18.150201</td>\n",
       "      <td>0.033470</td>\n",
       "    </tr>\n",
       "    <tr>\n",
       "      <th>10</th>\n",
       "      <td>18.863244</td>\n",
       "      <td>0.042034</td>\n",
       "    </tr>\n",
       "  </tbody>\n",
       "</table>\n",
       "</div>"
      ],
      "text/plain": [
       "      lb_stat  lb_pvalue\n",
       "1    0.171130   0.679109\n",
       "2    0.188455   0.910076\n",
       "3    0.616427   0.892662\n",
       "4    3.177093   0.528639\n",
       "5   13.656469   0.017945\n",
       "6   13.674930   0.033486\n",
       "7   15.105303   0.034673\n",
       "8   17.437344   0.025864\n",
       "9   18.150201   0.033470\n",
       "10  18.863244   0.042034"
      ]
     },
     "execution_count": 15,
     "metadata": {},
     "output_type": "execute_result"
    }
   ],
   "source": [
    "acorr_ljungbox(res_arma11.resid, lags=10, return_df=True)"
   ]
  },
  {
   "cell_type": "markdown",
   "metadata": {
    "pycharm": {
     "name": "#%% md\n"
    }
   },
   "source": [
    "The residuals will be the new time series to work with. It can be interpreted as the log-returns but filtered for\n",
    "linear dependencies."
   ]
  },
  {
   "cell_type": "code",
   "execution_count": 16,
   "metadata": {
    "pycharm": {
     "name": "#%%\n"
    }
   },
   "outputs": [],
   "source": [
    "log_return_adj_closed_filtered = res_arma11.resid"
   ]
  },
  {
   "cell_type": "markdown",
   "metadata": {},
   "source": [
    "## Test for ARCH/GARCH effects\n",
    "\n",
    "Intuitively, strong serial correlation should still exist in the filtered time series but in terms of squared returns.\n",
    "For that plot the acf of the squared filtered returns and verify this by applying the Ljung-Box Test for serial\n",
    "correlation again.\n"
   ]
  },
  {
   "cell_type": "code",
   "execution_count": 17,
   "metadata": {
    "pycharm": {
     "name": "#%%\n"
    }
   },
   "outputs": [
    {
     "data": {
      "text/html": [
       "<div>\n",
       "<style scoped>\n",
       "    .dataframe tbody tr th:only-of-type {\n",
       "        vertical-align: middle;\n",
       "    }\n",
       "\n",
       "    .dataframe tbody tr th {\n",
       "        vertical-align: top;\n",
       "    }\n",
       "\n",
       "    .dataframe thead th {\n",
       "        text-align: right;\n",
       "    }\n",
       "</style>\n",
       "<table border=\"1\" class=\"dataframe\">\n",
       "  <thead>\n",
       "    <tr style=\"text-align: right;\">\n",
       "      <th></th>\n",
       "      <th>lb_stat</th>\n",
       "      <th>lb_pvalue</th>\n",
       "    </tr>\n",
       "  </thead>\n",
       "  <tbody>\n",
       "    <tr>\n",
       "      <th>1</th>\n",
       "      <td>174.326225</td>\n",
       "      <td>8.401240e-40</td>\n",
       "    </tr>\n",
       "    <tr>\n",
       "      <th>2</th>\n",
       "      <td>527.747682</td>\n",
       "      <td>2.517949e-115</td>\n",
       "    </tr>\n",
       "    <tr>\n",
       "      <th>3</th>\n",
       "      <td>920.582590</td>\n",
       "      <td>3.037197e-199</td>\n",
       "    </tr>\n",
       "    <tr>\n",
       "      <th>4</th>\n",
       "      <td>1160.678834</td>\n",
       "      <td>5.323820e-250</td>\n",
       "    </tr>\n",
       "    <tr>\n",
       "      <th>5</th>\n",
       "      <td>1497.256160</td>\n",
       "      <td>0.000000e+00</td>\n",
       "    </tr>\n",
       "    <tr>\n",
       "      <th>6</th>\n",
       "      <td>1671.263045</td>\n",
       "      <td>0.000000e+00</td>\n",
       "    </tr>\n",
       "    <tr>\n",
       "      <th>7</th>\n",
       "      <td>1960.583133</td>\n",
       "      <td>0.000000e+00</td>\n",
       "    </tr>\n",
       "    <tr>\n",
       "      <th>8</th>\n",
       "      <td>2172.971921</td>\n",
       "      <td>0.000000e+00</td>\n",
       "    </tr>\n",
       "    <tr>\n",
       "      <th>9</th>\n",
       "      <td>2489.658564</td>\n",
       "      <td>0.000000e+00</td>\n",
       "    </tr>\n",
       "    <tr>\n",
       "      <th>10</th>\n",
       "      <td>2721.053085</td>\n",
       "      <td>0.000000e+00</td>\n",
       "    </tr>\n",
       "  </tbody>\n",
       "</table>\n",
       "</div>"
      ],
      "text/plain": [
       "        lb_stat      lb_pvalue\n",
       "1    174.326225   8.401240e-40\n",
       "2    527.747682  2.517949e-115\n",
       "3    920.582590  3.037197e-199\n",
       "4   1160.678834  5.323820e-250\n",
       "5   1497.256160   0.000000e+00\n",
       "6   1671.263045   0.000000e+00\n",
       "7   1960.583133   0.000000e+00\n",
       "8   2172.971921   0.000000e+00\n",
       "9   2489.658564   0.000000e+00\n",
       "10  2721.053085   0.000000e+00"
      ]
     },
     "execution_count": 17,
     "metadata": {},
     "output_type": "execute_result"
    },
    {
     "data": {
      "image/png": "[encoded data removed]",
      "text/plain": [
       "<Figure size 432x288 with 1 Axes>"
      ]
     },
     "metadata": {
      "needs_background": "light"
     },
     "output_type": "display_data"
    }
   ],
   "source": [
    "sqr_fil_returns = np.square(log_return_adj_closed_filtered)\n",
    "\n",
    "acf_plt = plot_acf(sqr_fil_returns)\n",
    "\n",
    "acorr_ljungbox(sqr_fil_returns, lags=10, return_df=True)"
   ]
  },
  {
   "cell_type": "markdown",
   "metadata": {
    "pycharm": {
     "name": "#%% md\n"
    }
   },
   "source": [
    "Clearly in all cases the nullhypothesis is rejected."
   ]
  },
  {
   "cell_type": "markdown",
   "metadata": {},
   "source": [
    "## Fitting a GARCH(1,1) model"
   ]
  },
  {
   "cell_type": "code",
   "execution_count": 18,
   "metadata": {
    "pycharm": {
     "name": "#%%\n"
    }
   },
   "outputs": [
    {
     "name": "stdout",
     "output_type": "stream",
     "text": [
      "Iteration:      1,   Func. Count:      6,   Neg. LLF: 118011953018.7255\n",
      "Iteration:      2,   Func. Count:     21,   Neg. LLF: 6.1036691950498056e+16\n",
      "Iteration:      3,   Func. Count:     34,   Neg. LLF: 5267580796668023.0\n",
      "Iteration:      4,   Func. Count:     46,   Neg. LLF: 1.1911791722597648e+17\n",
      "Iteration:      5,   Func. Count:     61,   Neg. LLF: 5.397940229757587e+16\n",
      "Iteration:      6,   Func. Count:     76,   Neg. LLF: 1030014.974834614\n",
      "Iteration:      7,   Func. Count:     86,   Neg. LLF: 464130452190.47614\n",
      "Iteration:      8,   Func. Count:    101,   Neg. LLF: 1.0513260539465003e+29\n",
      "Iteration:      9,   Func. Count:    116,   Neg. LLF: 1.13140453672076e+21\n",
      "Iteration:     10,   Func. Count:    124,   Neg. LLF: 2792.7173665662135\n",
      "Optimization terminated successfully    (Exit mode 0)\n",
      "            Current function value: 2792.717435035196\n",
      "            Iterations: 14\n",
      "            Function evaluations: 124\n",
      "            Gradient evaluations: 10\n",
      "                     Constant Mean - GARCH Model Results                      \n",
      "==============================================================================\n",
      "Dep. Variable:                   None   R-squared:                       0.000\n",
      "Mean Model:             Constant Mean   Adj. R-squared:                  0.000\n",
      "Vol Model:                      GARCH   Log-Likelihood:               -2792.72\n",
      "Distribution:                  Normal   AIC:                           5593.43\n",
      "Method:            Maximum Likelihood   BIC:                           5619.34\n",
      "                                        No. Observations:                 4794\n",
      "Date:                Fri, Sep 10 2021   Df Residuals:                     4793\n",
      "Time:                        12:22:51   Df Model:                            1\n",
      "                               Mean Model                               \n",
      "========================================================================\n",
      "                 coef    std err          t      P>|t|  95.0% Conf. Int.\n",
      "------------------------------------------------------------------------\n",
      "mu            -0.4115  1.837e-02    -22.394 4.478e-111 [ -0.447, -0.375]\n",
      "                               Volatility Model                              \n",
      "=============================================================================\n",
      "                 coef    std err          t      P>|t|       95.0% Conf. Int.\n",
      "-----------------------------------------------------------------------------\n",
      "omega      1.4551e-05  2.189e-04  6.649e-02      0.947 [-4.144e-04,4.435e-04]\n",
      "alpha[1]       0.1012  5.797e-03     17.459  2.962e-68    [8.984e-02,  0.113]\n",
      "beta[1]        0.8756  8.582e-03    102.027      0.000      [  0.859,  0.892]\n",
      "=============================================================================\n",
      "\n",
      "Covariance estimator: robust\n"
     ]
    },
    {
     "name": "stderr",
     "output_type": "stream",
     "text": [
      "/home/dm/Desktop/PFF/venv/lib/python3.7/site-packages/arch/univariate/base.py:317: DataScaleWarning: y is poorly scaled, which may affect convergence of the optimizer when\n",
      "estimating the model parameters. The scale of y is 0.0002173. Parameter\n",
      "estimation work better when this value is between 1 and 1000. The recommended\n",
      "rescaling is 100 * y.\n",
      "\n",
      "This warning can be disabled by either rescaling y before initializing the\n",
      "model or by setting rescale=False.\n",
      "\n",
      "  data_scale_warning.format(orig_scale, rescale), DataScaleWarning\n"
     ]
    }
   ],
   "source": [
    "mod_garch11 = arch_model(log_return_adj_closed_filtered, p=1, q=1, dist='normal')\n",
    "res_garch11 = mod_garch11.fit()\n",
    "print(res_garch11.summary())"
   ]
  },
  {
   "cell_type": "code",
   "execution_count": 19,
   "metadata": {
    "pycharm": {
     "name": "#%%\n"
    }
   },
   "outputs": [
    {
     "data": {
      "image/png": "[encoded data removed]",
      "text/plain": [
       "<Figure size 432x288 with 1 Axes>"
      ]
     },
     "metadata": {
      "needs_background": "light"
     },
     "output_type": "display_data"
    }
   ],
   "source": [
    "# standardized residuals = returns/conditional volatility\n",
    "\n",
    "plt.plot(res_garch11.std_resid)\n",
    "plt.show()"
   ]
  },
  {
   "cell_type": "code",
   "execution_count": 20,
   "metadata": {
    "pycharm": {
     "name": "#%%\n"
    }
   },
   "outputs": [
    {
     "data": {
      "image/png": "[encoded data removed]",
      "text/plain": [
       "<Figure size 432x288 with 1 Axes>"
      ]
     },
     "metadata": {
      "needs_background": "light"
     },
     "output_type": "display_data"
    }
   ],
   "source": [
    "# conditional volatility\n",
    "\n",
    "plt.plot(res_garch11.conditional_volatility)\n",
    "plt.show()"
   ]
  },
  {
   "cell_type": "code",
   "execution_count": 27,
   "metadata": {
    "pycharm": {
     "name": "#%%\n"
    }
   },
   "outputs": [
    {
     "data": {
      "image/png": "[encoded data removed]",
      "text/plain": [
       "<Figure size 432x288 with 1 Axes>"
      ]
     },
     "metadata": {
      "needs_background": "light"
     },
     "output_type": "display_data"
    }
   ],
   "source": [
    "# unstandardized residuals = conditional volatility*standard white noise\n",
    "\n",
    "plt.plot(res_garch11.resid)\n",
    "plt.show()\n"
   ]
  },
  {
   "cell_type": "markdown",
   "metadata": {},
   "source": [
    "In order to assess the quality of the fit, we have to evaluate how many predicted datapoints lie within a given confidence\n",
    "intervall. In our example with normal distribution, the \"coverage\" can be simply calculate by $1.96 * \\hat{\\sigma_t}$.\n",
    "\n"
   ]
  },
  {
   "cell_type": "code",
   "execution_count": 26,
   "metadata": {
    "pycharm": {
     "name": "#%%\n"
    }
   },
   "outputs": [
    {
     "data": {
      "image/png": "[encoded data removed]",
      "text/plain": [
       "<Figure size 432x288 with 1 Axes>"
      ]
     },
     "metadata": {
      "needs_background": "light"
     },
     "output_type": "display_data"
    }
   ],
   "source": [
    "coverage_pos = res_garch11.conditional_volatility * 1.96\n",
    "coverage_neg = - coverage_pos\n",
    "\n",
    "fig, ax = plt.subplots()\n",
    "\n",
    "# Customize data mapping appearance\n",
    "ax.plot(log_return_adj_closed_filtered, linewidth = 0.3)\n",
    "ax.plot(coverage_pos, linewidth=0.5, color='red')\n",
    "ax.plot(coverage_neg, linewidth=0.5, color='red')\n",
    "plt.show()\n"
   ]
  },
  {
   "cell_type": "code",
   "execution_count": 23,
   "metadata": {
    "pycharm": {
     "name": "#%%\n"
    }
   },
   "outputs": [
    {
     "data": {
      "text/plain": [
       "0.0"
      ]
     },
     "execution_count": 23,
     "metadata": {},
     "output_type": "execute_result"
    }
   ],
   "source": [
    "pos_exedence = coverage_pos < log_return_adj_closed_filtered\n",
    "neg_exedence = coverage_neg > log_return_adj_closed_filtered\n",
    "(pos_exedence.sum() + neg_exedence.sum())/len(log_return_adj_closed_filtered)\n"
   ]
  },
  {
   "cell_type": "markdown",
   "metadata": {
    "pycharm": {
     "name": "#%% md\n"
    }
   },
   "source": [
    "We can see that our model roughly covers 95% of our sample which is for purpose good enough.\n"
   ]
  },
  {
   "cell_type": "markdown",
   "metadata": {},
   "source": [
    "## Forecasting Volatility\n",
    "\n",
    "Let us now do some mean and volatility forecast. The ARCH package has a forecast object for this task. Be default\n",
    "forecasts will only be produced for the final observation in the sample so that they are out-of-sample.\n"
   ]
  },
  {
   "cell_type": "code",
   "execution_count": 24,
   "metadata": {
    "pycharm": {
     "name": "#%%\n"
    }
   },
   "outputs": [
    {
     "name": "stdout",
     "output_type": "stream",
     "text": [
      "                 h.1\n",
      "Date                \n",
      "2018-12-21       NaN\n",
      "2018-12-27       NaN\n",
      "2018-12-28 -0.411453\n",
      "                 h.1\n",
      "Date                \n",
      "2018-12-21       NaN\n",
      "2018-12-27       NaN\n",
      "2018-12-28  0.135863\n",
      "                 h.1\n",
      "Date                \n",
      "2018-12-21       NaN\n",
      "2018-12-27       NaN\n",
      "2018-12-28  0.135863\n"
     ]
    },
    {
     "name": "stderr",
     "output_type": "stream",
     "text": [
      "/home/dm/Desktop/PFF/venv/lib/python3.7/site-packages/arch/__future__/_utility.py:21: FutureWarning: \n",
      "The default for reindex is True. After September 2021 this will change to\n",
      "False. Set reindex to True or False to silence this message. Alternatively,\n",
      "you can use the import comment\n",
      "\n",
      "from arch.__future__ import reindexing\n",
      "\n",
      "to globally set reindex to True and silence this warning.\n",
      "\n",
      "  FutureWarning,\n"
     ]
    }
   ],
   "source": [
    "obj_forecast = res_garch11.forecast()\n",
    "\n",
    "print(obj_forecast.mean.iloc[-3:])\n",
    "print(obj_forecast.residual_variance.iloc[-3:])\n",
    "print(obj_forecast.variance.iloc[-3:])\n"
   ]
  },
  {
   "cell_type": "code",
   "execution_count": 25,
   "metadata": {
    "pycharm": {
     "name": "#%%\n"
    }
   },
   "outputs": [
    {
     "name": "stdout",
     "output_type": "stream",
     "text": [
      "                 h.1       h.2       h.3\n",
      "Date                                    \n",
      "2018-12-21       NaN       NaN       NaN\n",
      "2018-12-27       NaN       NaN       NaN\n",
      "2018-12-28 -0.411453 -0.411453 -0.411453\n",
      "                 h.1       h.2       h.3\n",
      "Date                                    \n",
      "2018-12-21       NaN       NaN       NaN\n",
      "2018-12-27       NaN       NaN       NaN\n",
      "2018-12-28  0.135863  0.132728  0.129665\n",
      "                 h.1       h.2       h.3\n",
      "Date                                    \n",
      "2018-12-21       NaN       NaN       NaN\n",
      "2018-12-27       NaN       NaN       NaN\n",
      "2018-12-28  0.135863  0.132728  0.129665\n"
     ]
    },
    {
     "name": "stderr",
     "output_type": "stream",
     "text": [
      "/home/dm/Desktop/PFF/venv/lib/python3.7/site-packages/arch/__future__/_utility.py:21: FutureWarning: \n",
      "The default for reindex is True. After September 2021 this will change to\n",
      "False. Set reindex to True or False to silence this message. Alternatively,\n",
      "you can use the import comment\n",
      "\n",
      "from arch.__future__ import reindexing\n",
      "\n",
      "to globally set reindex to True and silence this warning.\n",
      "\n",
      "  FutureWarning,\n"
     ]
    }
   ],
   "source": [
    "obj_forecast = res_garch11.forecast(horizon=3)\n",
    "\n",
    "print(obj_forecast.mean.iloc[-3:])\n",
    "print(obj_forecast.residual_variance.iloc[-3:])\n",
    "print(obj_forecast.variance.iloc[-3:])\n"
   ]
  },
  {
   "cell_type": "markdown",
   "metadata": {
    "pycharm": {
     "name": "#%% md\n"
    }
   },
   "source": [
    "### Reference\n",
    "\n",
    "[1] Hastie T., Tibshirani R., Friedman J. (2017): The Elements of Statistical Learning\n",
    "\n",
    "[2] Burnham K.P., Anderson D.R. (2004): Multimodel Inference: Understanding AIC and BIC in Model Selection\n",
    "\n",
    "[A] More on Akaike information criterion\n",
    "    https://towardsdatascience.com/the-akaike-information-criterion-c20c8fd832f2\n",
    "\n"
   ]
  }
 ],
 "metadata": {
  "kernelspec": {
   "display_name": "Python 3",
   "language": "python",
   "name": "python3"
  },
  "language_info": {
   "codemirror_mode": {
    "name": "ipython",
    "version": 3
   },
   "file_extension": ".py",
   "mimetype": "text/x-python",
   "name": "python",
   "nbconvert_exporter": "python",
   "pygments_lexer": "ipython3",
   "version": "3.7.11"
  }
 },
 "nbformat": 4,
 "nbformat_minor": 1
}