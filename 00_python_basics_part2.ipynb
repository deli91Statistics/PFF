{
 "cells": [
  {
   "cell_type": "markdown",
   "metadata": {
    "collapsed": true,
    "pycharm": {
     "name": "#%% md\n"
    }
   },
   "source": [
    "# Python Basics: Introduction to Pandas\n",
    "\n",
    "\n",
    "The main object pandas offers is the pandas dataframe. It offers a wide range of data manipulation\n",
    "options which we will explore.\n",
    "\n",
    "The dataframe object itself is a two-dimensional tabular-styled data structure with\n",
    "labeled axes (rows and columns). Basically, it has three principal\n",
    "components: data, rows=index and columns."
   ]
  },
  {
   "cell_type": "code",
   "execution_count": 24,
   "outputs": [],
   "source": [
    "import pandas as pd"
   ],
   "metadata": {
    "collapsed": false,
    "pycharm": {
     "name": "#%%\n"
    }
   }
  },
  {
   "cell_type": "markdown",
   "source": [
    "### Create a pandas dataframe"
   ],
   "metadata": {
    "collapsed": false
   }
  },
  {
   "cell_type": "markdown",
   "source": [
    "#### By \"hand\""
   ],
   "metadata": {
    "collapsed": false,
    "pycharm": {
     "name": "#%% md\n"
    }
   }
  },
  {
   "cell_type": "code",
   "execution_count": 25,
   "outputs": [
    {
     "data": {
      "text/plain": "       col_label_1 1234 col_label_3  col_label_4\n1                2    3           4            5\n2               32   55           4           51\nword             a    b           c            9\nword 2          32   55           4           51\n5                a    b           c           10",
      "text/html": "<div>\n<style scoped>\n    .dataframe tbody tr th:only-of-type {\n        vertical-align: middle;\n    }\n\n    .dataframe tbody tr th {\n        vertical-align: top;\n    }\n\n    .dataframe thead th {\n        text-align: right;\n    }\n</style>\n<table border=\"1\" class=\"dataframe\">\n  <thead>\n    <tr style=\"text-align: right;\">\n      <th></th>\n      <th>col_label_1</th>\n      <th>1234</th>\n      <th>col_label_3</th>\n      <th>col_label_4</th>\n    </tr>\n  </thead>\n  <tbody>\n    <tr>\n      <th>1</th>\n      <td>2</td>\n      <td>3</td>\n      <td>4</td>\n      <td>5</td>\n    </tr>\n    <tr>\n      <th>2</th>\n      <td>32</td>\n      <td>55</td>\n      <td>4</td>\n      <td>51</td>\n    </tr>\n    <tr>\n      <th>word</th>\n      <td>a</td>\n      <td>b</td>\n      <td>c</td>\n      <td>9</td>\n    </tr>\n    <tr>\n      <th>word 2</th>\n      <td>32</td>\n      <td>55</td>\n      <td>4</td>\n      <td>51</td>\n    </tr>\n    <tr>\n      <th>5</th>\n      <td>a</td>\n      <td>b</td>\n      <td>c</td>\n      <td>10</td>\n    </tr>\n  </tbody>\n</table>\n</div>"
     },
     "execution_count": 25,
     "metadata": {},
     "output_type": "execute_result"
    }
   ],
   "source": [
    "dat_num_1 = [2, 3, 4, 5]\n",
    "dat_num_2 = [32, 55, 4, 51]\n",
    "dat_str_1 = ['a', 'b', 'c', 9]\n",
    "dat_num_3 = [32, 55, 4, 51]\n",
    "dat_str_2 = ['a', 'b', 'c', 10]\n",
    "dat_list = [dat_num_1, dat_num_2, dat_str_1, dat_num_3, dat_str_2]\n",
    "col_name = ['col_label_1', 1234, 'col_label_3', 'col_label_4']\n",
    "index_name = [1, 2, 'word', 'word 2', 5]\n",
    "dat_frame = pd.DataFrame(dat_list, columns=col_name, index=index_name)\n",
    "\n",
    "dat_frame"
   ],
   "metadata": {
    "collapsed": false,
    "pycharm": {
     "name": "#%%\n"
    }
   }
  },
  {
   "cell_type": "code",
   "execution_count": 26,
   "outputs": [],
   "source": [
    "dat_append_1 = pd.DataFrame([['A', 'B', 'C', 'D'], [1, 2, 3, 4]], columns=dat_frame.columns)\n",
    "dat_append_2 = pd.DataFrame([[1, 2, 3, 4]], columns=dat_frame.columns)\n",
    "dat_concat_1 = pd.DataFrame([['A', 'B', 'C'], [1, 2, 3]])\n",
    "dat_concat_2 = pd.DataFrame([['A', 'B', 'C', 'D'], [1, 2, 3, 4]], index=['a', 1])\n"
   ],
   "metadata": {
    "collapsed": false,
    "pycharm": {
     "name": "#%%\n"
    }
   }
  },
  {
   "cell_type": "markdown",
   "source": [
    "#### From a dictionary"
   ],
   "metadata": {
    "collapsed": false,
    "pycharm": {
     "name": "#%% md\n"
    }
   }
  },
  {
   "cell_type": "code",
   "execution_count": 27,
   "outputs": [
    {
     "data": {
      "text/plain": "   key_1    key_2  key_3\n0      1  Mustang   1964\n1      2  Mustang   1964\n2      3  Mustang   1964\n3      4  Mustang   1964\n4      5  Mustang   1964",
      "text/html": "<div>\n<style scoped>\n    .dataframe tbody tr th:only-of-type {\n        vertical-align: middle;\n    }\n\n    .dataframe tbody tr th {\n        vertical-align: top;\n    }\n\n    .dataframe thead th {\n        text-align: right;\n    }\n</style>\n<table border=\"1\" class=\"dataframe\">\n  <thead>\n    <tr style=\"text-align: right;\">\n      <th></th>\n      <th>key_1</th>\n      <th>key_2</th>\n      <th>key_3</th>\n    </tr>\n  </thead>\n  <tbody>\n    <tr>\n      <th>0</th>\n      <td>1</td>\n      <td>Mustang</td>\n      <td>1964</td>\n    </tr>\n    <tr>\n      <th>1</th>\n      <td>2</td>\n      <td>Mustang</td>\n      <td>1964</td>\n    </tr>\n    <tr>\n      <th>2</th>\n      <td>3</td>\n      <td>Mustang</td>\n      <td>1964</td>\n    </tr>\n    <tr>\n      <th>3</th>\n      <td>4</td>\n      <td>Mustang</td>\n      <td>1964</td>\n    </tr>\n    <tr>\n      <th>4</th>\n      <td>5</td>\n      <td>Mustang</td>\n      <td>1964</td>\n    </tr>\n  </tbody>\n</table>\n</div>"
     },
     "execution_count": 27,
     "metadata": {},
     "output_type": "execute_result"
    }
   ],
   "source": [
    "dict_1 = {\n",
    "    \"key_1\": [1, 2, 3, 4, 5],\n",
    "    \"key_2\": \"Mustang\",\n",
    "    \"key_3\": 1964\n",
    "}\n",
    "\n",
    "# default: keys = column names, values = data\n",
    "# Note: data are of different types\n",
    "pd.DataFrame(dict_1)"
   ],
   "metadata": {
    "collapsed": false,
    "pycharm": {
     "name": "#%%\n"
    }
   }
  },
  {
   "cell_type": "code",
   "execution_count": 28,
   "outputs": [
    {
     "data": {
      "text/plain": "    key_1  key_3    key_2\n10      1   1964  Mustang\n11      2   1964  Mustang\n12      3   1964  Mustang\n13      4   1964  Mustang\n14      5   1964  Mustang",
      "text/html": "<div>\n<style scoped>\n    .dataframe tbody tr th:only-of-type {\n        vertical-align: middle;\n    }\n\n    .dataframe tbody tr th {\n        vertical-align: top;\n    }\n\n    .dataframe thead th {\n        text-align: right;\n    }\n</style>\n<table border=\"1\" class=\"dataframe\">\n  <thead>\n    <tr style=\"text-align: right;\">\n      <th></th>\n      <th>key_1</th>\n      <th>key_3</th>\n      <th>key_2</th>\n    </tr>\n  </thead>\n  <tbody>\n    <tr>\n      <th>10</th>\n      <td>1</td>\n      <td>1964</td>\n      <td>Mustang</td>\n    </tr>\n    <tr>\n      <th>11</th>\n      <td>2</td>\n      <td>1964</td>\n      <td>Mustang</td>\n    </tr>\n    <tr>\n      <th>12</th>\n      <td>3</td>\n      <td>1964</td>\n      <td>Mustang</td>\n    </tr>\n    <tr>\n      <th>13</th>\n      <td>4</td>\n      <td>1964</td>\n      <td>Mustang</td>\n    </tr>\n    <tr>\n      <th>14</th>\n      <td>5</td>\n      <td>1964</td>\n      <td>Mustang</td>\n    </tr>\n  </tbody>\n</table>\n</div>"
     },
     "execution_count": 28,
     "metadata": {},
     "output_type": "execute_result"
    }
   ],
   "source": [
    "# with index and different order of columns (column name has to correspond to key names)\n",
    "pd.DataFrame(dict_1, index=[10, 11, 12, 13, 14], columns=['key_1', 'key_3', 'key_2'])\n"
   ],
   "metadata": {
    "collapsed": false,
    "pycharm": {
     "name": "#%%\n"
    }
   }
  },
  {
   "cell_type": "markdown",
   "source": [
    "#### From a list"
   ],
   "metadata": {
    "collapsed": false
   }
  },
  {
   "cell_type": "code",
   "execution_count": 29,
   "outputs": [
    {
     "data": {
      "text/plain": "    c1  c2  c3  c4  c5  c6 c7\n0    2   3   4   5   6   7  8\n1  0.2  33  24  55  66  77  8\n2    a   b   c   d   e   f  g",
      "text/html": "<div>\n<style scoped>\n    .dataframe tbody tr th:only-of-type {\n        vertical-align: middle;\n    }\n\n    .dataframe tbody tr th {\n        vertical-align: top;\n    }\n\n    .dataframe thead th {\n        text-align: right;\n    }\n</style>\n<table border=\"1\" class=\"dataframe\">\n  <thead>\n    <tr style=\"text-align: right;\">\n      <th></th>\n      <th>c1</th>\n      <th>c2</th>\n      <th>c3</th>\n      <th>c4</th>\n      <th>c5</th>\n      <th>c6</th>\n      <th>c7</th>\n    </tr>\n  </thead>\n  <tbody>\n    <tr>\n      <th>0</th>\n      <td>2</td>\n      <td>3</td>\n      <td>4</td>\n      <td>5</td>\n      <td>6</td>\n      <td>7</td>\n      <td>8</td>\n    </tr>\n    <tr>\n      <th>1</th>\n      <td>0.2</td>\n      <td>33</td>\n      <td>24</td>\n      <td>55</td>\n      <td>66</td>\n      <td>77</td>\n      <td>8</td>\n    </tr>\n    <tr>\n      <th>2</th>\n      <td>a</td>\n      <td>b</td>\n      <td>c</td>\n      <td>d</td>\n      <td>e</td>\n      <td>f</td>\n      <td>g</td>\n    </tr>\n  </tbody>\n</table>\n</div>"
     },
     "execution_count": 29,
     "metadata": {},
     "output_type": "execute_result"
    }
   ],
   "source": [
    "data_1 = [2, 3, 4, 5, 6, 7, 8]\n",
    "data_2 = [0.2, 33, 24, 55, 66, 77, 8]\n",
    "data_3 = ['a', 'b', 'c', 'd', 'e', 'f', 'g']\n",
    "data_list = [data_1, data_2, data_3]\n",
    "\n",
    "# Note: each list corresponds to one row(!)\n",
    "pd.DataFrame(data_list, columns=['c1', 'c2', 'c3', 'c4', 'c5', 'c6', 'c7'])"
   ],
   "metadata": {
    "collapsed": false,
    "pycharm": {
     "name": "#%%\n"
    }
   }
  },
  {
   "cell_type": "markdown",
   "source": [
    "### Accessing dataframes"
   ],
   "metadata": {
    "collapsed": false
   }
  },
  {
   "cell_type": "markdown",
   "source": [
    "#### Access column and row labels"
   ],
   "metadata": {
    "collapsed": false
   }
  },
  {
   "cell_type": "code",
   "execution_count": 30,
   "outputs": [
    {
     "data": {
      "text/plain": "Index([1, 2, 'word', 'word 2', 5], dtype='object')"
     },
     "execution_count": 30,
     "metadata": {},
     "output_type": "execute_result"
    }
   ],
   "source": [
    "dat_frame.columns       # return a pandas series\n",
    "dat_frame.index"
   ],
   "metadata": {
    "collapsed": false,
    "pycharm": {
     "name": "#%%\n"
    }
   }
  },
  {
   "cell_type": "code",
   "execution_count": 31,
   "outputs": [
    {
     "data": {
      "text/plain": "2"
     },
     "execution_count": 31,
     "metadata": {},
     "output_type": "execute_result"
    }
   ],
   "source": [
    "dat_frame.columns[3]    # access elements in the series\n",
    "dat_frame.index[1]"
   ],
   "metadata": {
    "collapsed": false,
    "pycharm": {
     "name": "#%%\n"
    }
   }
  },
  {
   "cell_type": "code",
   "execution_count": 32,
   "outputs": [
    {
     "data": {
      "text/plain": "col_label_1    object\n1234           object\ncol_label_3    object\ncol_label_4     int64\ndtype: object"
     },
     "execution_count": 32,
     "metadata": {},
     "output_type": "execute_result"
    }
   ],
   "source": [
    "dat_frame.dtypes\n"
   ],
   "metadata": {
    "collapsed": false,
    "pycharm": {
     "name": "#%%\n"
    }
   }
  },
  {
   "cell_type": "markdown",
   "source": [
    "#### Access elements in a dataframe by key and label"
   ],
   "metadata": {
    "collapsed": false
   }
  },
  {
   "cell_type": "code",
   "execution_count": 33,
   "outputs": [
    {
     "data": {
      "text/plain": "1         4\n2         4\nword      c\nword 2    4\n5         c\nName: col_label_3, dtype: object"
     },
     "execution_count": 33,
     "metadata": {},
     "output_type": "execute_result"
    }
   ],
   "source": [
    "dat_frame['col_label_3']                                # Select column\n",
    "dat_frame.col_label_3                                   # Note: Returns column data and row labels"
   ],
   "metadata": {
    "collapsed": false,
    "pycharm": {
     "name": "#%%\n"
    }
   }
  },
  {
   "cell_type": "code",
   "execution_count": 34,
   "outputs": [
    {
     "data": {
      "text/plain": "col_label_1    2\n1234           3\ncol_label_3    4\ncol_label_4    5\nName: 1, dtype: object"
     },
     "execution_count": 34,
     "metadata": {},
     "output_type": "execute_result"
    }
   ],
   "source": [
    "dat_frame.loc[1]                                        # Select row by label\n",
    "                                                        # Note: Returns row data and column labels"
   ],
   "metadata": {
    "collapsed": false,
    "pycharm": {
     "name": "#%%\n"
    }
   }
  },
  {
   "cell_type": "code",
   "execution_count": 35,
   "outputs": [
    {
     "data": {
      "text/plain": "4"
     },
     "execution_count": 35,
     "metadata": {},
     "output_type": "execute_result"
    }
   ],
   "source": [
    "dat_frame[1234]['word']                                 # Select Cell by double key\n",
    "dat_frame.loc[1, 'col_label_3']                         # Select Cell by loc"
   ],
   "metadata": {
    "collapsed": false,
    "pycharm": {
     "name": "#%%\n"
    }
   }
  },
  {
   "cell_type": "code",
   "execution_count": 36,
   "outputs": [
    {
     "data": {
      "text/plain": "       col_label_1 1234 col_label_3\n1                2    3           4\n2               32   55           4\nword             a    b           c\nword 2          32   55           4\n5                a    b           c",
      "text/html": "<div>\n<style scoped>\n    .dataframe tbody tr th:only-of-type {\n        vertical-align: middle;\n    }\n\n    .dataframe tbody tr th {\n        vertical-align: top;\n    }\n\n    .dataframe thead th {\n        text-align: right;\n    }\n</style>\n<table border=\"1\" class=\"dataframe\">\n  <thead>\n    <tr style=\"text-align: right;\">\n      <th></th>\n      <th>col_label_1</th>\n      <th>1234</th>\n      <th>col_label_3</th>\n    </tr>\n  </thead>\n  <tbody>\n    <tr>\n      <th>1</th>\n      <td>2</td>\n      <td>3</td>\n      <td>4</td>\n    </tr>\n    <tr>\n      <th>2</th>\n      <td>32</td>\n      <td>55</td>\n      <td>4</td>\n    </tr>\n    <tr>\n      <th>word</th>\n      <td>a</td>\n      <td>b</td>\n      <td>c</td>\n    </tr>\n    <tr>\n      <th>word 2</th>\n      <td>32</td>\n      <td>55</td>\n      <td>4</td>\n    </tr>\n    <tr>\n      <th>5</th>\n      <td>a</td>\n      <td>b</td>\n      <td>c</td>\n    </tr>\n  </tbody>\n</table>\n</div>"
     },
     "execution_count": 36,
     "metadata": {},
     "output_type": "execute_result"
    }
   ],
   "source": [
    "dat_frame.loc[[2, 'word'], [1234, 'col_label_4']]       # Slicing by row and column keys\n",
    "dat_frame.loc[:'word 2', :'col_label_3']\n",
    "dat_frame.loc[:, :'col_label_3']\n"
   ],
   "metadata": {
    "collapsed": false,
    "pycharm": {
     "name": "#%%\n"
    }
   }
  },
  {
   "cell_type": "markdown",
   "source": [
    "#### Access by index"
   ],
   "metadata": {
    "collapsed": false
   }
  },
  {
   "cell_type": "code",
   "execution_count": 37,
   "outputs": [
    {
     "data": {
      "text/plain": "4"
     },
     "execution_count": 37,
     "metadata": {},
     "output_type": "execute_result"
    }
   ],
   "source": [
    "dat_frame.iloc[1, 2]"
   ],
   "metadata": {
    "collapsed": false,
    "pycharm": {
     "name": "#%%\n"
    }
   }
  },
  {
   "cell_type": "code",
   "execution_count": 38,
   "outputs": [
    {
     "data": {
      "text/plain": "     col_label_1 1234 col_label_3  col_label_4\n1              2    3           4            5\nword           a    b           c            9\n5              a    b           c           10",
      "text/html": "<div>\n<style scoped>\n    .dataframe tbody tr th:only-of-type {\n        vertical-align: middle;\n    }\n\n    .dataframe tbody tr th {\n        vertical-align: top;\n    }\n\n    .dataframe thead th {\n        text-align: right;\n    }\n</style>\n<table border=\"1\" class=\"dataframe\">\n  <thead>\n    <tr style=\"text-align: right;\">\n      <th></th>\n      <th>col_label_1</th>\n      <th>1234</th>\n      <th>col_label_3</th>\n      <th>col_label_4</th>\n    </tr>\n  </thead>\n  <tbody>\n    <tr>\n      <th>1</th>\n      <td>2</td>\n      <td>3</td>\n      <td>4</td>\n      <td>5</td>\n    </tr>\n    <tr>\n      <th>word</th>\n      <td>a</td>\n      <td>b</td>\n      <td>c</td>\n      <td>9</td>\n    </tr>\n    <tr>\n      <th>5</th>\n      <td>a</td>\n      <td>b</td>\n      <td>c</td>\n      <td>10</td>\n    </tr>\n  </tbody>\n</table>\n</div>"
     },
     "execution_count": 38,
     "metadata": {},
     "output_type": "execute_result"
    }
   ],
   "source": [
    "dat_frame.iloc[::2]                                     # See list, for slicing grammar\n"
   ],
   "metadata": {
    "collapsed": false,
    "pycharm": {
     "name": "#%%\n"
    }
   }
  },
  {
   "cell_type": "markdown",
   "source": [
    "### Manipulating dataframes"
   ],
   "metadata": {
    "collapsed": false
   }
  },
  {
   "cell_type": "markdown",
   "source": [
    "#### Change axis labels\n",
    "There are several ways to change labels, here is the best practice"
   ],
   "metadata": {
    "collapsed": false
   }
  },
  {
   "cell_type": "code",
   "source": [
    "# Using the .rename() method (see documentation)\n",
    "# Rename columns\n",
    "dat_frame.rename(columns={'col_label_1': 'new_label_1', 1234: 'new_label_2'})   # returns a new dataframe copy\n",
    "dat_frame.rename(columns={1234: 'new_label_2'}, inplace=True)                   # overwrites old dataframe\n",
    "                                                                                # Note: columns = ... ; also takes functions"
   ],
   "metadata": {
    "collapsed": false,
    "pycharm": {
     "name": "#%%\n"
    }
   },
   "execution_count": 39,
   "outputs": []
  },
  {
   "cell_type": "code",
   "execution_count": 40,
   "outputs": [],
   "source": [
    "# Rename rows\n",
    "dat_frame.rename(index={'word': 'new_index_1', 5: 1234})\n",
    "dat_frame.rename(index={5: 1234}, inplace=True)"
   ],
   "metadata": {
    "collapsed": false,
    "pycharm": {
     "name": "#%%\n"
    }
   }
  },
  {
   "cell_type": "code",
   "source": [
    "# Using the .set_axis() method (see documentation)\n",
    "# Rename columns, axis=1 or axis='column'\n",
    "dat_frame.set_axis(['a', 'b', 'c', 'd'], axis=1)\n",
    "dat_frame.set_axis(['aa', 'bb', 'cc', 'dd'], axis='columns', inplace=True)"
   ],
   "metadata": {
    "collapsed": false,
    "pycharm": {
     "name": "#%%\n"
    }
   },
   "execution_count": 41,
   "outputs": []
  },
  {
   "cell_type": "code",
   "source": [
    "# Rename rows, axis=0 or axis='index'\n",
    "dat_frame.set_axis([10, 20, 30, 40, 50], axis=0)\n",
    "dat_frame.set_axis([100, 200, 300, 400, 500], axis='index', inplace=True)"
   ],
   "metadata": {
    "collapsed": false,
    "pycharm": {
     "name": "#%%\n"
    }
   },
   "execution_count": 42,
   "outputs": []
  },
  {
   "cell_type": "code",
   "source": [
    "# Rename index with .set_index\n",
    "dat_frame.set_index('col_label_3', inplace=True)        # transform a column into an index\n",
    "dat_frame.set_index('col_label_3')                      # the data column doesn't exist afterwards"
   ],
   "metadata": {
    "collapsed": false,
    "pycharm": {
     "name": "#%%\n"
    }
   },
   "execution_count": 43,
   "outputs": [
    {
     "ename": "KeyError",
     "evalue": "\"None of ['col_label_3'] are in the columns\"",
     "output_type": "error",
     "traceback": [
      "\u001B[0;31m---------------------------------------------------------------------------\u001B[0m",
      "\u001B[0;31mKeyError\u001B[0m                                  Traceback (most recent call last)",
      "\u001B[0;32m<ipython-input-43-5a3f9fda27de>\u001B[0m in \u001B[0;36m<module>\u001B[0;34m\u001B[0m\n\u001B[1;32m      1\u001B[0m \u001B[0;31m# Rename index with .set_index\u001B[0m\u001B[0;34m\u001B[0m\u001B[0;34m\u001B[0m\u001B[0;34m\u001B[0m\u001B[0m\n\u001B[0;32m----> 2\u001B[0;31m \u001B[0mdat_frame\u001B[0m\u001B[0;34m.\u001B[0m\u001B[0mset_index\u001B[0m\u001B[0;34m(\u001B[0m\u001B[0;34m'col_label_3'\u001B[0m\u001B[0;34m,\u001B[0m \u001B[0minplace\u001B[0m\u001B[0;34m=\u001B[0m\u001B[0;32mTrue\u001B[0m\u001B[0;34m)\u001B[0m        \u001B[0;31m# transform a column into an index\u001B[0m\u001B[0;34m\u001B[0m\u001B[0;34m\u001B[0m\u001B[0m\n\u001B[0m\u001B[1;32m      3\u001B[0m \u001B[0mdat_frame\u001B[0m\u001B[0;34m.\u001B[0m\u001B[0mset_index\u001B[0m\u001B[0;34m(\u001B[0m\u001B[0;34m'col_label_3'\u001B[0m\u001B[0;34m)\u001B[0m                      \u001B[0;31m# the data column doesn't exist afterwards\u001B[0m\u001B[0;34m\u001B[0m\u001B[0;34m\u001B[0m\u001B[0m\n\u001B[1;32m      4\u001B[0m \u001B[0;34m\u001B[0m\u001B[0m\n",
      "\u001B[0;32m~/Desktop/Project_M/venv/lib/python3.7/site-packages/pandas/core/frame.py\u001B[0m in \u001B[0;36mset_index\u001B[0;34m(self, keys, drop, append, inplace, verify_integrity)\u001B[0m\n\u001B[1;32m   4301\u001B[0m \u001B[0;34m\u001B[0m\u001B[0m\n\u001B[1;32m   4302\u001B[0m         \u001B[0;32mif\u001B[0m \u001B[0mmissing\u001B[0m\u001B[0;34m:\u001B[0m\u001B[0;34m\u001B[0m\u001B[0;34m\u001B[0m\u001B[0m\n\u001B[0;32m-> 4303\u001B[0;31m             \u001B[0;32mraise\u001B[0m \u001B[0mKeyError\u001B[0m\u001B[0;34m(\u001B[0m\u001B[0;34mf\"None of {missing} are in the columns\"\u001B[0m\u001B[0;34m)\u001B[0m\u001B[0;34m\u001B[0m\u001B[0;34m\u001B[0m\u001B[0m\n\u001B[0m\u001B[1;32m   4304\u001B[0m \u001B[0;34m\u001B[0m\u001B[0m\n\u001B[1;32m   4305\u001B[0m         \u001B[0;32mif\u001B[0m \u001B[0minplace\u001B[0m\u001B[0;34m:\u001B[0m\u001B[0;34m\u001B[0m\u001B[0;34m\u001B[0m\u001B[0m\n",
      "\u001B[0;31mKeyError\u001B[0m: \"None of ['col_label_3'] are in the columns\""
     ]
    }
   ]
  },
  {
   "cell_type": "code",
   "source": [
    "# Transform index into a column\n",
    "dat_frame['transformed_index'] = dat_frame.index        # the index itself is still in effect\n"
   ],
   "metadata": {
    "collapsed": false,
    "pycharm": {
     "name": "#%%\n"
    }
   },
   "execution_count": null,
   "outputs": []
  },
  {
   "cell_type": "markdown",
   "source": [
    "#### Change dataframe values"
   ],
   "metadata": {
    "collapsed": false
   }
  },
  {
   "cell_type": "code",
   "execution_count": null,
   "outputs": [],
   "source": [
    "# Direct assignment with replacement, if positions are known\n",
    "dat_frame.loc[2, 1234] = 9999                   # by key\n",
    "dat_frame.loc[[1, 2], 1234] = [333, 444]\n",
    "dat_frame.iloc[:, 3] = [1, 2, 3, 4, 5]          # by index"
   ],
   "metadata": {
    "collapsed": false,
    "pycharm": {
     "name": "#%%\n"
    }
   }
  },
  {
   "cell_type": "code",
   "execution_count": null,
   "outputs": [],
   "source": [
    "# With .replace() method, position are not required to be known\n",
    "dat_frame.replace(5, 'replaced 5')\n",
    "dat_frame.replace('c', 'replaced c', inplace=True)          # replaces all(!) values that match\n",
    "dat_frame.replace(['a', 'b', 'c', 'd'], 'all strings')      # replace a set of values with a single expression\n",
    "\n",
    "dat_frame.replace([4, 4], 5555)                             # doesn't work"
   ],
   "metadata": {
    "collapsed": false,
    "pycharm": {
     "name": "#%%\n"
    }
   }
  },
  {
   "cell_type": "code",
   "execution_count": null,
   "outputs": [],
   "source": [
    "# replace a set of values with another set of equal length\n",
    "dat_frame.replace(to_replace=['a', 'b', 'c', 'd'], value=[111, 222, 333, 444])\n"
   ],
   "metadata": {
    "collapsed": false,
    "pycharm": {
     "name": "#%%\n"
    }
   }
  },
  {
   "cell_type": "markdown",
   "source": [
    "#### Add columns, rows, dataframes"
   ],
   "metadata": {
    "collapsed": false,
    "pycharm": {
     "name": "#%% md\n"
    }
   }
  },
  {
   "cell_type": "code",
   "execution_count": null,
   "outputs": [],
   "source": [
    "# Add columns\n",
    "dat_frame['new_unused_column_name'] = [1, 2, 3, 4, 5]       # setting with enlargement, new column is always at the end\n",
    "                                                            # Note: Overwrites old dataframe"
   ],
   "metadata": {
    "collapsed": false,
    "pycharm": {
     "name": "#%%\n"
    }
   }
  },
  {
   "cell_type": "code",
   "execution_count": null,
   "outputs": [],
   "source": [
    "dat_frame.insert(2, 'new_col', [11, 22, 33, 44, 55])        # with .insert(): index position, column name, values\n",
    "                                                            # Note: Overwrites old dataframe"
   ],
   "metadata": {
    "collapsed": false,
    "pycharm": {
     "name": "#%%\n"
    }
   }
  },
  {
   "cell_type": "code",
   "execution_count": null,
   "outputs": [],
   "source": [
    "dat_frame.assign(address=['D', 'B', 'C', 'P', 'H'])         # similar to setting with enlargement\n",
    "                                                            # Note: Returns old dataframe with new column, no overwrite"
   ],
   "metadata": {
    "collapsed": false,
    "pycharm": {
     "name": "#%%\n"
    }
   }
  },
  {
   "cell_type": "code",
   "execution_count": null,
   "outputs": [],
   "source": [
    "dat_frame['doubled'] = dat_frame['col_label_4'] + \\\n",
    "                       dat_frame['col_label_4']             # creation by adding two columns"
   ],
   "metadata": {
    "collapsed": false,
    "pycharm": {
     "name": "#%%\n"
    }
   }
  },
  {
   "cell_type": "code",
   "execution_count": null,
   "outputs": [],
   "source": [
    "# Add row\n",
    "dat_frame.loc[3] = ['a', 'b', 'c', 'd']                    # setting with enlargement, new row is always at the end\n",
    "\n",
    "dat_frame.append(dat_append_1, ignore_index=True)          # with .append() method, overwrite old index with new\n",
    "dat_frame.append(dat_append_2)                             # keep old index and start with new counter\n",
    "\n",
    "# See other methods: .concat(), .merge(), etc.\n"
   ],
   "metadata": {
    "collapsed": false,
    "pycharm": {
     "name": "#%%\n"
    }
   }
  },
  {
   "cell_type": "markdown",
   "source": [
    "#### Delete columns and rows"
   ],
   "metadata": {
    "collapsed": false
   }
  },
  {
   "cell_type": "code",
   "execution_count": null,
   "outputs": [],
   "source": [
    "# Delete column\n",
    "dat_frame.drop(columns=['col_label_1', 'col_label_3'], inplace=False)       # drop by label\n",
    "dat_frame.drop(dat_frame.columns[2], axis=1)                                # drop by index"
   ],
   "metadata": {
    "collapsed": false,
    "pycharm": {
     "name": "#%%\n"
    }
   }
  },
  {
   "cell_type": "code",
   "execution_count": null,
   "outputs": [],
   "source": [
    "# Delete row\n",
    "dat_frame.drop(index=['word'], inplace=True)                                # drop by label\n",
    "dat_frame.drop(dat_frame.index[2])                                          # drop by index\n",
    "\n",
    "# See: .pop() for other methods\n",
    "# Note: Dropping columns, rows is the same like slicing a dataframe for you own needs"
   ],
   "metadata": {
    "collapsed": false,
    "pycharm": {
     "name": "#%%\n"
    }
   }
  }
 ],
 "metadata": {
  "kernelspec": {
   "display_name": "Python 3",
   "language": "python",
   "name": "python3"
  },
  "language_info": {
   "codemirror_mode": {
    "name": "ipython",
    "version": 2
   },
   "file_extension": ".py",
   "mimetype": "text/x-python",
   "name": "python",
   "nbconvert_exporter": "python",
   "pygments_lexer": "ipython2",
   "version": "2.7.6"
  }
 },
 "nbformat": 4,
 "nbformat_minor": 0
}