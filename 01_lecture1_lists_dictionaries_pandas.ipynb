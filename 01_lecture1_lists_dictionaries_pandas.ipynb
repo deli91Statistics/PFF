{
 "cells": [
  {
   "cell_type": "markdown",
   "metadata": {},
   "source": [
    "# Python Basics: Data Types and Data Structures\n",
    "\n",
    "## Chapter 1: Lists\n",
    "\n",
    "Lists are objects of variable length. They are mutable, i.e. the object (usually referred to the entries of a list)\n",
    "may be changed. In particular, they can be modified in-place. This means that we can modify a list without\n",
    "creating a new list."
   ]
  },
  {
   "cell_type": "markdown",
   "metadata": {},
   "source": [
    "### Create a list\n",
    "\n",
    "Create a list simply by using [ ] and assigned it to a variable. You can also cast generators to the\n",
    "built-in `list()` function which also yields a list object."
   ]
  },
  {
   "cell_type": "code",
   "execution_count": null,
   "metadata": {
    "pycharm": {
     "name": "#%%\n"
    }
   },
   "outputs": [],
   "source": [
    "L1 = [1, 2, 3, 4, 5, 6, 7, 8, 9, 10]"
   ]
  },
  {
   "cell_type": "code",
   "execution_count": null,
   "metadata": {
    "pycharm": {
     "name": "#%%\n"
    }
   },
   "outputs": [],
   "source": [
    "L2 = ['word', 'this is a sentence', 'a', 'b', 'C']"
   ]
  },
  {
   "cell_type": "markdown",
   "metadata": {},
   "source": [
    "A list can also contain other lists. This is referred to as nested list."
   ]
  },
  {
   "cell_type": "code",
   "execution_count": null,
   "metadata": {
    "pycharm": {
     "name": "#%%\n"
    }
   },
   "outputs": [],
   "source": [
    "L4 = [L1, L2]"
   ]
  },
  {
   "cell_type": "markdown",
   "metadata": {},
   "source": [
    "### Using a generator and the list() function"
   ]
  },
  {
   "cell_type": "code",
   "execution_count": null,
   "metadata": {
    "pycharm": {
     "name": "#%%\n"
    }
   },
   "outputs": [],
   "source": [
    "generator = range(5)\n",
    "list(generator)"
   ]
  },
  {
   "cell_type": "markdown",
   "metadata": {},
   "source": [
    "Note that `range()` creates a range object which is passed to the `list()` function to generate the actual list object.\n",
    "We will later see that range is particularly helpful in terms of loops.\n"
   ]
  },
  {
   "cell_type": "markdown",
   "metadata": {},
   "source": [
    "### Access elements in a list\n",
    "\n",
    "Elements or groups of elements in a list can be accessed through their index or by using the slice grammar.\n",
    "The indexing in Python starts at 0!\n",
    "\n",
    "`my_list[start:stop:step]`"
   ]
  },
  {
   "cell_type": "code",
   "execution_count": null,
   "metadata": {
    "pycharm": {
     "name": "#%%\n"
    }
   },
   "outputs": [],
   "source": [
    "# Selection by index\n",
    "\n",
    "L1[3]           # 3. element"
   ]
  },
  {
   "cell_type": "code",
   "execution_count": null,
   "metadata": {
    "pycharm": {
     "name": "#%%\n"
    }
   },
   "outputs": [],
   "source": [
    "L1[-2]          # 2. reversed"
   ]
  },
  {
   "cell_type": "code",
   "execution_count": null,
   "metadata": {
    "pycharm": {
     "name": "#%%\n"
    }
   },
   "outputs": [],
   "source": [
    "# Selection by slice\n",
    "\n",
    "L1[::3]     # every third"
   ]
  },
  {
   "cell_type": "code",
   "execution_count": null,
   "metadata": {
    "pycharm": {
     "name": "#%%\n"
    }
   },
   "outputs": [],
   "source": [
    "L1[::-2]    # every second reversed"
   ]
  },
  {
   "cell_type": "markdown",
   "metadata": {},
   "source": [
    "### ***Exercise: Access elements in a list***"
   ]
  },
  {
   "cell_type": "code",
   "execution_count": null,
   "metadata": {
    "pycharm": {
     "name": "#%%\n"
    }
   },
   "outputs": [],
   "source": [
    "# Consider\n",
    "\n",
    "L1 = [1, 2, 3, 4, 5, 6, 7, 8, 9, 10]\n",
    "\n",
    "\n",
    "# Select elements from L!\n",
    "# starting with item 2 towards item 6 in 3 step interval\n",
    "\n",
    "\n",
    "# loop backwards in two step intervals starting with 3. item from the back\n",
    "\n",
    "\n",
    "# start with 5. item from the back and iterate forward in 3 steps interval\n"
   ]
  },
  {
   "cell_type": "markdown",
   "metadata": {},
   "source": [
    "### Change Elements in a list\n",
    "\n",
    "As mentioned above, lists are mutable and thus the elements in a list can be changed (insert new, delete\n",
    "entries, overwrite entries)"
   ]
  },
  {
   "cell_type": "code",
   "execution_count": null,
   "metadata": {
    "pycharm": {
     "name": "#%%\n"
    }
   },
   "outputs": [],
   "source": [
    "# Overwriting\n",
    "\n",
    "L1[1] = 8888                # by index\n",
    "L1"
   ]
  },
  {
   "cell_type": "code",
   "execution_count": null,
   "metadata": {
    "pycharm": {
     "name": "#%%\n"
    }
   },
   "outputs": [],
   "source": [
    "# Entire slices can be changed as well, however, the lenght has to match\n",
    "\n",
    "L1[:3] = [33, 33, 33]"
   ]
  },
  {
   "cell_type": "code",
   "execution_count": null,
   "metadata": {
    "pycharm": {
     "name": "#%%\n"
    }
   },
   "outputs": [],
   "source": [
    "# Deletion\n",
    "\n",
    "del L1[1]                       # by index\n",
    "del L1[4:7]                     # by slicing\n",
    "L2.remove('word')               # by name, not suitable for numbers\n",
    "L1.remove(3)                    # removes only the first item of list that matches if multiple occur"
   ]
  },
  {
   "cell_type": "code",
   "execution_count": null,
   "metadata": {
    "pycharm": {
     "name": "#%%\n"
    }
   },
   "outputs": [],
   "source": [
    "# Insertion\n",
    "\n",
    "L1.insert(4, 333)               # insert one element by index, here: index=4, number=333\n",
    "L1[3:3] = [66, 77, 88]          # insert list elements (not list!) starting at index=3\n",
    "L1.insert(2, [777, 777])        # insert a list as a list in the list, not viable!\n",
    "\n",
    "L1"
   ]
  },
  {
   "cell_type": "code",
   "execution_count": null,
   "metadata": {
    "pycharm": {
     "name": "#%%\n"
    }
   },
   "outputs": [],
   "source": [
    "# Append elements to a list\n",
    "\n",
    "x = 5\n",
    "L1.append(x)\n",
    "L1\n",
    "\n",
    "# This method is commonly used. In most cases append() is used in a for loop. This method is also used with other data\n",
    "# structures"
   ]
  },
  {
   "cell_type": "code",
   "execution_count": null,
   "metadata": {
    "pycharm": {
     "name": "#%%\n"
    }
   },
   "outputs": [],
   "source": [
    "# Entire list (WRONG WAY)\n",
    "\n",
    "L1.append(L2)       # append a list and not(!) the elements within the list, for that see concatenate\n",
    "L1                  # yields a list of elements with a list in the end"
   ]
  },
  {
   "cell_type": "code",
   "execution_count": null,
   "metadata": {
    "pycharm": {
     "name": "#%%\n"
    }
   },
   "outputs": [],
   "source": [
    "# Concatenate lists\n",
    "\n",
    "L1 + L2  # this is not(!) the same like [L1, L2]"
   ]
  },
  {
   "cell_type": "code",
   "execution_count": null,
   "metadata": {
    "pycharm": {
     "name": "#%%\n"
    }
   },
   "outputs": [],
   "source": [
    "# We will also learn how to create a list via list comprehension instead of using the following for-loop\n",
    "\n",
    "L = []\n",
    "\n",
    "for i in range(10):\n",
    "    x = i**2\n",
    "    L.append(x)\n",
    "\n",
    "L"
   ]
  },
  {
   "cell_type": "markdown",
   "metadata": {},
   "source": [
    "### Iteration and List comprehension"
   ]
  },
  {
   "cell_type": "code",
   "execution_count": null,
   "metadata": {
    "pycharm": {
     "name": "#%%\n"
    }
   },
   "outputs": [],
   "source": [
    "# classical for-loop\n",
    "\n",
    "for x in L1:\n",
    "    print(x)"
   ]
  },
  {
   "cell_type": "code",
   "execution_count": null,
   "metadata": {
    "pycharm": {
     "name": "#%%\n"
    }
   },
   "outputs": [],
   "source": [
    "i = 1\n",
    "\n",
    "while i < 6:\n",
    "  print(i)\n",
    "  i += 1    # which is the same syntax like i = i+1"
   ]
  },
  {
   "cell_type": "markdown",
   "metadata": {},
   "source": [
    "### List comprehension\n",
    "\n",
    "List comprehension offers an elegant way to create a new list based on another list and further conditions\n",
    "\n",
    "Syntax:\n",
    "\n",
    "    [ 'expression' for 'item' in list if 'conditional' ]\n",
    "\n",
    "Semantically, this means\n",
    "\n",
    "    [*transform variable* given by the *iteration* with certain *conditions* ]\n",
    "\n",
    "this is equivalent to\n",
    "\n",
    "    for item in list:\n",
    "        if conditional:\n",
    "            expression\n",
    "\n",
    "The purpose of list comprehension is to create a list only(!). It is supposed to make code more readable\n",
    "and clarify its intention. It is preferable to use a for loop if your list comprehension statement\n",
    "exceeds two lines."
   ]
  },
  {
   "cell_type": "code",
   "execution_count": null,
   "metadata": {
    "pycharm": {
     "name": "#%%\n"
    }
   },
   "outputs": [],
   "source": [
    "# Define two lists, one with numbers and one with strings, we will use them in future exercises\n",
    "\n",
    "L_comp = [1, 2, 3, 4, 5, 6, 7, 8, 9, 10]\n",
    "L_comp_str = ['aa', 'ab', 'bb', 'bc']"
   ]
  },
  {
   "cell_type": "code",
   "execution_count": null,
   "metadata": {
    "pycharm": {
     "name": "#%%\n"
    }
   },
   "outputs": [],
   "source": [
    "# Print/Return identity\n",
    "\n",
    "lst_comp_1 = [k for k in L_comp]\n",
    "lst_comp_1"
   ]
  },
  {
   "cell_type": "code",
   "execution_count": null,
   "metadata": {
    "pycharm": {
     "name": "#%%\n"
    }
   },
   "outputs": [],
   "source": [
    "# Return identity with boundary constrain\n",
    "\n",
    "lst_comp_3 = [k for k in L_comp if k < 5]\n",
    "lst_comp_3"
   ]
  },
  {
   "cell_type": "code",
   "execution_count": null,
   "metadata": {
    "pycharm": {
     "name": "#%%\n"
    }
   },
   "outputs": [],
   "source": [
    "lst_comp_str_1 = [any_loop_name for any_loop_name in L_comp_str]\n",
    "lst_comp_str_1"
   ]
  },
  {
   "cell_type": "markdown",
   "metadata": {},
   "source": [
    "### ***Exercise: List Comprehension***"
   ]
  },
  {
   "cell_type": "code",
   "execution_count": null,
   "metadata": {
    "pycharm": {
     "name": "#%%\n"
    }
   },
   "outputs": [],
   "source": [
    "# Compute the square of the list and return the elements below 20\n"
   ]
  },
  {
   "cell_type": "code",
   "execution_count": null,
   "metadata": {
    "pycharm": {
     "name": "#%%\n"
    }
   },
   "outputs": [],
   "source": [
    "# Return the elements of the list that contain an 'a'\n"
   ]
  },
  {
   "cell_type": "markdown",
   "metadata": {},
   "source": [
    "### Some Additional Methods"
   ]
  },
  {
   "cell_type": "code",
   "execution_count": null,
   "metadata": {
    "pycharm": {
     "name": "#%%\n"
    }
   },
   "outputs": [],
   "source": [
    "'''\n",
    "append()    Add an element to the end of the list\n",
    "extend()    Add all elements of a list to the another list\n",
    "insert()    Insert an item at the defined index\n",
    "remove()    Removes an item from the list\n",
    "\n",
    "pop()       Removes and returns an element at the given index\n",
    "clear()     Removes all items from the list\n",
    "index()     Returns the index of the first matched item\n",
    "count()     Returns the count of the number of items passed as an argument\n",
    "sort()      Sort items in a list in ascending order\n",
    "reverse()   Reverse the order of items in the list\n",
    "copy()      Returns a shallow copy of the list\n",
    "'''"
   ]
  },
  {
   "cell_type": "markdown",
   "metadata": {},
   "source": [
    "<br/>"
   ]
  },
  {
   "cell_type": "markdown",
   "metadata": {},
   "source": [
    "## Chapter 2: Dictionaries\n",
    "\n",
    "Similar to lists, dictionaries are also mutable data structures, that is they can be altered. In contrast to list\n",
    "objects, dictionaries are unordered and contain so called key-value pairs. Dictionaries are an essential\n",
    "building block in the python programming language and thus highly optimized. We will later see that\n",
    "dictionaries offer a convenient way to create pandas dataframes with low effort."
   ]
  },
  {
   "cell_type": "markdown",
   "metadata": {},
   "source": [
    "### Create a dictionary\n",
    "\n",
    "Use { } brackets or the `dict()` function create dictionaries."
   ]
  },
  {
   "cell_type": "code",
   "execution_count": null,
   "metadata": {
    "pycharm": {
     "name": "#%%\n"
    }
   },
   "outputs": [],
   "source": [
    "# Using {}-brackets\n",
    "\n",
    "dict_1 = {\n",
    "    \"key_1\": [1, 2, 3, 4, 5],\n",
    "    \"key_2\": \"Mustang\",\n",
    "    \"key_3\": 1964,\n",
    "    \"key_4\": ['a', 'b', 'c']\n",
    "}\n",
    "\n",
    "\n",
    "dict_2 = {\n",
    "    \"key_3\": [13, 22, 31, 44, 53],\n",
    "    \"key_4\": [12, 33],\n",
    "    \"key_5\": 1264\n",
    "}\n",
    "\n",
    "\n",
    "dict_3 = {\n",
    "    \"key_1\": [13, 22, 31, 44, 53],\n",
    "    \"key_3\": \"Ford\",\n",
    "    \"key_5\": 1264\n",
    "}\n",
    "\n",
    "\n",
    "dict_4 = {\n",
    "    \"key_1\": 1,\n",
    "    \"key_3\": -12,\n",
    "    \"key_5\": 3,\n",
    "    \"key_6\": -7,\n",
    "    \"key_7\": -3\n",
    "}"
   ]
  },
  {
   "cell_type": "code",
   "execution_count": null,
   "metadata": {
    "pycharm": {
     "name": "#%%\n"
    }
   },
   "outputs": [],
   "source": [
    "# using dict() constructor\n",
    "\n",
    "dict_dict = dict(key_1=\"banana\", key_2=\"grape\", key_3=12321)  # key = value"
   ]
  },
  {
   "cell_type": "markdown",
   "metadata": {},
   "source": [
    "### Access elements in a dictionary"
   ]
  },
  {
   "cell_type": "code",
   "execution_count": null,
   "metadata": {
    "pycharm": {
     "name": "#%%\n"
    }
   },
   "outputs": [],
   "source": [
    "dict_1['key_1']         # by key"
   ]
  },
  {
   "cell_type": "code",
   "execution_count": null,
   "metadata": {
    "pycharm": {
     "name": "#%%\n"
    }
   },
   "outputs": [],
   "source": [
    "dict_1['key_1'][2]      # with nested objects"
   ]
  },
  {
   "cell_type": "code",
   "execution_count": null,
   "metadata": {
    "pycharm": {
     "name": "#%%\n"
    }
   },
   "outputs": [],
   "source": [
    "dict_1.get('key_2')     # by get() method"
   ]
  },
  {
   "cell_type": "markdown",
   "metadata": {},
   "source": [
    "In the next section we will explore some properties of dictionaries."
   ]
  },
  {
   "cell_type": "markdown",
   "metadata": {},
   "source": [
    "### Add elements"
   ]
  },
  {
   "cell_type": "code",
   "execution_count": null,
   "metadata": {
    "pycharm": {
     "name": "#%%\n"
    }
   },
   "outputs": [],
   "source": [
    "dict_1['new_key'] = [1, 3, 56]  # by specifying key and value"
   ]
  },
  {
   "cell_type": "code",
   "execution_count": null,
   "metadata": {
    "pycharm": {
     "name": "#%%\n"
    }
   },
   "outputs": [],
   "source": [
    "dict_1.update(dict_2)           # Adding a dictionary to another dictionary\n",
    "\n",
    "dict_1.update(dict_3)           # updating dictionary overwrites old keys with values of new key & values"
   ]
  },
  {
   "cell_type": "markdown",
   "metadata": {},
   "source": [
    "### Delete elements"
   ]
  },
  {
   "cell_type": "code",
   "execution_count": null,
   "metadata": {
    "pycharm": {
     "name": "#%%\n"
    }
   },
   "outputs": [],
   "source": [
    "dict_1.pop('key_1')  # removes key and values and print the deleted value\n",
    "\n",
    "del dict_1['key_3']  # using del operator"
   ]
  },
  {
   "cell_type": "markdown",
   "metadata": {},
   "source": [
    "### Change elements"
   ]
  },
  {
   "cell_type": "code",
   "execution_count": null,
   "metadata": {
    "pycharm": {
     "name": "#%%\n"
    }
   },
   "outputs": [],
   "source": [
    "# Change value given a key\n",
    "dict_1['key_2'] = 123"
   ]
  },
  {
   "cell_type": "code",
   "execution_count": null,
   "metadata": {
    "pycharm": {
     "name": "#%%\n"
    }
   },
   "outputs": [],
   "source": [
    "# method 1: change keys by creating a new one and delete the old one\n",
    "dict_1['new_key'] = dict_1['key_2']\n",
    "del dict_1['key_2']"
   ]
  },
  {
   "cell_type": "code",
   "execution_count": null,
   "metadata": {
    "pycharm": {
     "name": "#%%\n"
    }
   },
   "outputs": [],
   "source": [
    "# method 2: change keys with pop()\n",
    "dict_1['new_key'] = dict_1.pop('key_2')"
   ]
  },
  {
   "cell_type": "markdown",
   "metadata": {},
   "source": [
    "### Iterate over a dictionary\n",
    "\n",
    "Iterating over dictionaries follows the same principle as with lists. The difference is that two objects\n",
    "can be iterated through, namely the keys, values or even both."
   ]
  },
  {
   "cell_type": "code",
   "execution_count": null,
   "metadata": {
    "pycharm": {
     "name": "#%%\n"
    }
   },
   "outputs": [],
   "source": [
    "# Iterate over the keys, returns keys only\n",
    "\n",
    "for key in dict_1:\n",
    "    print(key)"
   ]
  },
  {
   "cell_type": "code",
   "execution_count": null,
   "metadata": {
    "pycharm": {
     "name": "#%%\n"
    }
   },
   "outputs": [],
   "source": [
    "# Iterate over the values, returns values only\n",
    "\n",
    "for values in dict_1.values():\n",
    "    print(values)"
   ]
  },
  {
   "cell_type": "code",
   "execution_count": null,
   "metadata": {
    "pycharm": {
     "name": "#%%\n"
    }
   },
   "outputs": [],
   "source": [
    "# Iterate over dictionary items, returns both key and values as a pair\n",
    "\n",
    "for items in dict_1.items():\n",
    "    print(items)"
   ]
  },
  {
   "cell_type": "code",
   "execution_count": null,
   "metadata": {
    "pycharm": {
     "name": "#%%\n"
    }
   },
   "outputs": [],
   "source": [
    "# Iterate over dictionary items, returns both key and values as a pair\n",
    "\n",
    "for key, value in dict_1.items():\n",
    "    print(key, value)"
   ]
  },
  {
   "cell_type": "markdown",
   "metadata": {},
   "source": [
    "### Create dictionaries with dict comprehension"
   ]
  },
  {
   "cell_type": "code",
   "execution_count": null,
   "metadata": {
    "pycharm": {
     "name": "#%%\n"
    }
   },
   "outputs": [],
   "source": [
    "# dict comprehension (CURLY brackets!)\n",
    "\n",
    "a = {key: 1 for key in dict_1}\n",
    "\n",
    "b = [k for (k, v) in dict_4.items() if v == 0]\n",
    "c_keys = {k for (k, v) in dict_4.items() if k == \"key_1\"}\n",
    "c_values = {v for (k, v) in dict_4.items() if v < 0}"
   ]
  },
  {
   "cell_type": "code",
   "execution_count": null,
   "metadata": {
    "pycharm": {
     "name": "#%%\n"
    }
   },
   "outputs": [],
   "source": [
    "# with a for loop\n",
    "\n",
    "dicts = {}\n",
    "keys = range(4)\n",
    "values = [\"Hi\", \"I\", \"am\", \"Dennis\"]\n",
    "for i in keys:\n",
    "    dicts[i] = values[i]\n",
    "print(dicts)"
   ]
  },
  {
   "cell_type": "markdown",
   "metadata": {},
   "source": [
    "### Some Additional Methods"
   ]
  },
  {
   "cell_type": "code",
   "execution_count": null,
   "metadata": {
    "pycharm": {
     "name": "#%%\n"
    }
   },
   "outputs": [],
   "source": [
    "'''\n",
    "clear()\t        Removes all the elements from the dictionary\n",
    "copy()\t        Returns a copy of the dictionary\n",
    "fromkeys()      Returns a dictionary with the specified keys and value\n",
    "get()\t        Returns the value of the specified key\n",
    "items()\t        Returns a list containing a tuple for each key value pair\n",
    "keys()\t        Returns a list containing the dictionary's keys\n",
    "pop()\t        Removes the element with the specified key\n",
    "popitem()       Removes the last inserted key-value pair\n",
    "setdefault()    Returns the value of the specified key. If the key does not exist: insert the key, with the specified value\n",
    "update()        Updates the dictionary with the specified key-value pairs\n",
    "values()        Returns a list of all the values in the dictionary\n",
    "'''\n"
   ]
  },
  {
   "cell_type": "markdown",
   "metadata": {},
   "source": [
    "<br/>"
   ]
  },
  {
   "cell_type": "markdown",
   "metadata": {},
   "source": [
    "## Chapter 3: Pandas\n",
    "\n",
    "The main object pandas provides is the pandas dataframe. This data structure is one of the core objects in\n",
    "the data science discipline.\n",
    "\n",
    "The dataframe object itself is a two-dimensional tabular-styled data structure with\n",
    "labeled axes (rows and columns). Formally, it has three components: data, rows=index and columns.\n",
    "\n",
    "The pandas package need to be installed first and then imported with the `import` statement."
   ]
  },
  {
   "cell_type": "code",
   "execution_count": 1,
   "metadata": {
    "pycharm": {
     "name": "#%%\n"
    }
   },
   "outputs": [],
   "source": [
    "import pandas as pd"
   ]
  },
  {
   "cell_type": "markdown",
   "metadata": {},
   "source": [
    "### Create a pandas dataframe"
   ]
  },
  {
   "cell_type": "markdown",
   "metadata": {},
   "source": [
    "**By \"hand\"**\n",
    "\n",
    "This is a rather artificial example but offers the chance to inspect the building blocks of\n",
    "the pandas data structure. As you can see, we are not restricted to any data types. Be aware that the lenght\n",
    "of the list have to match the lenght of the index. The same goes for the number of data columns\n",
    "and the list of column names."
   ]
  },
  {
   "cell_type": "code",
   "execution_count": null,
   "metadata": {
    "pycharm": {
     "name": "#%%\n"
    }
   },
   "outputs": [],
   "source": [
    "# Define the data first which this dataframe should contain, note that the data is not homogeneous\n",
    "dat_num_1 = [2, 3, 4, 5]\n",
    "dat_num_2 = [32, 55, 4, 51]\n",
    "dat_str_1 = ['a', 'b', 'c', 9]\n",
    "dat_num_3 = [32, 55, 4, 51]\n",
    "dat_str_2 = ['a', 'b', 'c', 10]\n",
    "dat_list = [dat_num_1, dat_num_2, dat_str_1, dat_num_3, dat_str_2]\n",
    "\n",
    "\n",
    "# Define the axis, i.e. columns and rows=index\n",
    "col_name = ['word', 1234, 'col_label_3', 'col_label_4']\n",
    "index_name = [1, 2, 'word', 'word 2', 5]\n",
    "\n",
    "\n",
    "# Create the dataframe with the pd.DataFrame() command\n",
    "dat_frame = pd.DataFrame(dat_list, columns=col_name, index=index_name)\n",
    "\n",
    "dat_frame\n"
   ]
  },
  {
   "cell_type": "markdown",
   "metadata": {},
   "source": [
    "**From a dictionary**\n",
    "\n",
    "In Python, it is quite natural to create dataframes from Python. Given a dictionary, use the `pd.DataFrame()` function\n",
    "to pass your dictionary to the dataframe constructor. By default, the keys are recognized as column names. If no\n",
    "specific index is given, the rows will be simply enumerated starting from 0."
   ]
  },
  {
   "cell_type": "code",
   "execution_count": null,
   "metadata": {
    "pycharm": {
     "name": "#%%\n"
    }
   },
   "outputs": [],
   "source": [
    "dict_1 = {\n",
    "    \"key_1\": [1, 2, 3, 4, 5],\n",
    "    \"key_2\": \"Mustang\",\n",
    "    \"key_3\": 1964\n",
    "}\n",
    "\n",
    "pd.DataFrame(dict_1)"
   ]
  },
  {
   "cell_type": "code",
   "execution_count": null,
   "metadata": {
    "pycharm": {
     "name": "#%%\n"
    }
   },
   "outputs": [],
   "source": [
    "# It is also possible to pass the arguments explicitly to the function without creating them beforehand\n",
    "\n",
    "pd.DataFrame(dict_1, index=[10, 11, 12, 13, 14], columns=['key_1', 'key_3', 'key_2'])"
   ]
  },
  {
   "cell_type": "markdown",
   "metadata": {},
   "source": [
    "### Access axis elements - Column & Row labels\n",
    "\n",
    "Accessing dataframes is essential. We can select the content by names or by index/position. Furthermore, we can also\n",
    "access the axis, i.e. index and column names.\n",
    "\n",
    "First, let's consider the axis. Every dataframe has the class method `.columns` and `.index` which returns a one\n",
    "dimensional pandas series."
   ]
  },
  {
   "cell_type": "code",
   "execution_count": null,
   "metadata": {
    "pycharm": {
     "name": "#%%\n"
    }
   },
   "outputs": [],
   "source": [
    "dat_frame.columns"
   ]
  },
  {
   "cell_type": "code",
   "execution_count": null,
   "metadata": {
    "pycharm": {
     "name": "#%%\n"
    }
   },
   "outputs": [],
   "source": [
    "dat_frame.index"
   ]
  },
  {
   "cell_type": "code",
   "execution_count": null,
   "metadata": {
    "pycharm": {
     "name": "#%%\n"
    }
   },
   "outputs": [],
   "source": [
    "# Check the datatype of your content by .dtypes\n",
    "\n",
    "dat_frame.dtypes"
   ]
  },
  {
   "cell_type": "markdown",
   "metadata": {},
   "source": [
    "### Access elements in a dataframe by key and label\n"
   ]
  },
  {
   "cell_type": "markdown",
   "metadata": {},
   "source": [
    "Use the [ ] indexing style to select a column. Another way is to use the .column_name\n",
    "method."
   ]
  },
  {
   "cell_type": "code",
   "execution_count": null,
   "metadata": {
    "pycharm": {
     "name": "#%%\n"
    }
   },
   "outputs": [],
   "source": [
    "dat_frame['col_label_3']                                # Select data by column name\n",
    "dat_frame.col_label_3                                   # Note: Returns column data and row labels\n"
   ]
  },
  {
   "cell_type": "markdown",
   "metadata": {},
   "source": [
    "The .loc[] method selects data by the label. If the labels are ambiguous, the column is always\n",
    "selected by default."
   ]
  },
  {
   "cell_type": "code",
   "execution_count": null,
   "metadata": {
    "pycharm": {
     "name": "#%%\n"
    }
   },
   "outputs": [],
   "source": [
    "dat_frame.loc['word']                                   # Select row by label\n",
    "                                                        # Note: Returns both row data and column labels"
   ]
  },
  {
   "cell_type": "code",
   "execution_count": null,
   "metadata": {
    "pycharm": {
     "name": "#%%\n"
    }
   },
   "outputs": [],
   "source": [
    "dat_frame.loc[:, 'col_label_1']                         # can be used for clarification\n"
   ]
  },
  {
   "cell_type": "code",
   "execution_count": null,
   "metadata": {
    "pycharm": {
     "name": "#%%\n"
    }
   },
   "outputs": [],
   "source": [
    "dat_frame[1234]['word']                                 # Select Cell by double key\n",
    "dat_frame.loc[1, 'col_label_3']                         # Select Cell by loc\n"
   ]
  },
  {
   "cell_type": "code",
   "execution_count": null,
   "metadata": {
    "pycharm": {
     "name": "#%%\n"
    }
   },
   "outputs": [],
   "source": [
    "dat_frame.loc[[2, 'word'], [1234, 'col_label_4']]       # Slicing by row and column keys\n",
    "dat_frame.loc[:'word 2', :'col_label_3']\n",
    "dat_frame.loc[:, :'col_label_3']\n"
   ]
  },
  {
   "cell_type": "markdown",
   "metadata": {},
   "source": [
    "### Access by index"
   ]
  },
  {
   "cell_type": "markdown",
   "metadata": {},
   "source": [
    "Alternatively, data can be selected by index/position. However, you have to pay attention where your data\n",
    "is located."
   ]
  },
  {
   "cell_type": "code",
   "execution_count": null,
   "metadata": {
    "pycharm": {
     "name": "#%%\n"
    }
   },
   "outputs": [],
   "source": [
    "dat_frame.iloc[1, 2]"
   ]
  },
  {
   "cell_type": "code",
   "execution_count": null,
   "metadata": {
    "pycharm": {
     "name": "#%%\n"
    }
   },
   "outputs": [],
   "source": [
    "dat_frame.iloc[:, ::2]                                     # See list, for slicing grammar\n"
   ]
  },
  {
   "cell_type": "markdown",
   "metadata": {},
   "source": [
    "### Manipulating dataframes"
   ]
  },
  {
   "cell_type": "markdown",
   "metadata": {},
   "source": [
    "**Change axis labels**\n",
    "\n",
    "There are several ways to change labels, here is the best practice. One way is\n",
    "to use the .rename() method (see documentation for detailed description)"
   ]
  },
  {
   "cell_type": "code",
   "execution_count": null,
   "metadata": {
    "pycharm": {
     "name": "#%%\n"
    }
   },
   "outputs": [],
   "source": [
    "dat_frame.rename(columns={'col_label_1': 'new_label_1', 1234: 'new_label_2'})   # returns a new dataframe copy"
   ]
  },
  {
   "cell_type": "code",
   "execution_count": null,
   "metadata": {
    "pycharm": {
     "name": "#%%\n"
    }
   },
   "outputs": [],
   "source": [
    "dat_frame.rename(columns={1234: 'new_label_2'}, inplace=True)                   # overwrites old dataframe\n",
    "                                                                                # Note: columns = ... ; also takes functions"
   ]
  },
  {
   "cell_type": "code",
   "execution_count": null,
   "metadata": {
    "pycharm": {
     "name": "#%%\n"
    }
   },
   "outputs": [],
   "source": [
    "# Same procedure with rows\n",
    "\n",
    "dat_frame.rename(index={'word': 'new_index_1', 5: 1234})\n",
    "dat_frame.rename(index={5: 1234}, inplace=True)"
   ]
  },
  {
   "cell_type": "markdown",
   "metadata": {},
   "source": [
    "Another way is to use the .set_axis() method in which the axis has to be specified first."
   ]
  },
  {
   "cell_type": "code",
   "execution_count": null,
   "metadata": {
    "pycharm": {
     "name": "#%%\n"
    }
   },
   "outputs": [],
   "source": [
    "# Rename columns, axis=1 or axis='column'\n",
    "dat_frame.set_axis(['a', 'b', 'c', 'd'], axis=1)"
   ]
  },
  {
   "cell_type": "code",
   "execution_count": null,
   "metadata": {
    "pycharm": {
     "name": "#%%\n"
    }
   },
   "outputs": [],
   "source": [
    "dat_frame.set_axis(['aa', 'bb', 'cc', 'dd'], axis='columns', inplace=True)"
   ]
  },
  {
   "cell_type": "code",
   "execution_count": null,
   "metadata": {
    "pycharm": {
     "name": "#%%\n"
    }
   },
   "outputs": [],
   "source": [
    "# Rename rows, axis=0 or axis='index'\n",
    "dat_frame.set_axis([10, 20, 30, 40, 50], axis=0)"
   ]
  },
  {
   "cell_type": "code",
   "execution_count": null,
   "metadata": {
    "pycharm": {
     "name": "#%%\n"
    }
   },
   "outputs": [],
   "source": [
    "dat_frame.set_axis([100, 200, 300, 400, 500], axis='index', inplace=True)"
   ]
  },
  {
   "cell_type": "markdown",
   "metadata": {},
   "source": [
    "Often a column needs to be transformed into the index, e.g. a date column which we will later see."
   ]
  },
  {
   "cell_type": "code",
   "execution_count": null,
   "metadata": {
    "pycharm": {
     "name": "#%%\n"
    }
   },
   "outputs": [],
   "source": [
    "dat_frame['transformed_index'] = dat_frame.index        # the index itself is still in effect"
   ]
  },
  {
   "cell_type": "markdown",
   "metadata": {},
   "source": [
    "**Change dataframe values**"
   ]
  },
  {
   "cell_type": "code",
   "execution_count": null,
   "metadata": {
    "pycharm": {
     "name": "#%%\n"
    }
   },
   "outputs": [],
   "source": [
    "# Direct assignment with replacement, if positions are known\n",
    "\n",
    "dat_frame.loc[2, 1234] = 9999                   # by key"
   ]
  },
  {
   "cell_type": "code",
   "execution_count": null,
   "metadata": {
    "pycharm": {
     "name": "#%%\n"
    }
   },
   "outputs": [],
   "source": [
    "dat_frame.loc[[1, 2], 1234] = [333, 444]"
   ]
  },
  {
   "cell_type": "code",
   "execution_count": null,
   "metadata": {
    "pycharm": {
     "name": "#%%\n"
    }
   },
   "outputs": [],
   "source": [
    "dat_frame.iloc[:, 3] = [1, 2, 3, 4, 5]          # by index"
   ]
  },
  {
   "cell_type": "code",
   "execution_count": null,
   "metadata": {
    "pycharm": {
     "name": "#%%\n"
    }
   },
   "outputs": [],
   "source": [
    "# With .replace() method, position are not required to be known, but labels are\n",
    "\n",
    "dat_frame.replace(5, 'replaced 5')"
   ]
  },
  {
   "cell_type": "code",
   "execution_count": null,
   "metadata": {
    "pycharm": {
     "name": "#%%\n"
    }
   },
   "outputs": [],
   "source": [
    "dat_frame.replace('c', 'replaced c', inplace=True)          # replaces all(!) values that match"
   ]
  },
  {
   "cell_type": "code",
   "execution_count": null,
   "metadata": {
    "pycharm": {
     "name": "#%%\n"
    }
   },
   "outputs": [],
   "source": [
    "dat_frame.replace(['a', 'b', 'c', 'd'], 'all strings')      # replace a set of values with a single expression"
   ]
  },
  {
   "cell_type": "code",
   "execution_count": null,
   "metadata": {
    "pycharm": {
     "name": "#%%\n"
    }
   },
   "outputs": [],
   "source": [
    "dat_frame.replace([4, 4], 5555)                             # doesn't work"
   ]
  },
  {
   "cell_type": "code",
   "execution_count": null,
   "metadata": {
    "pycharm": {
     "name": "#%%\n"
    }
   },
   "outputs": [],
   "source": [
    "# replace a set of values with another set of equal length\n",
    "\n",
    "dat_frame.replace(to_replace=['a', 'b', 'c', 'd'], value=[111, 222, 333, 444])\n"
   ]
  },
  {
   "cell_type": "markdown",
   "metadata": {},
   "source": [
    "**Add columns and rows**\n",
    "\n",
    "Let's add some columns first"
   ]
  },
  {
   "cell_type": "code",
   "execution_count": null,
   "metadata": {
    "pycharm": {
     "name": "#%%\n"
    }
   },
   "outputs": [],
   "source": [
    "dat_frame['new_unused_column_name'] = [1, 2, 3, 4, 5]       # setting with enlargement, new column is always at the end\n",
    "                                                            # Note: Overwrites old dataframe"
   ]
  },
  {
   "cell_type": "code",
   "execution_count": null,
   "metadata": {
    "pycharm": {
     "name": "#%%\n"
    }
   },
   "outputs": [],
   "source": [
    "dat_frame.insert(2, 'new_col', [11, 22, 33, 44, 55])        # with .insert(): index position, column name, values\n",
    "                                                            # Note: Overwrites old dataframe"
   ]
  },
  {
   "cell_type": "code",
   "execution_count": null,
   "metadata": {
    "pycharm": {
     "name": "#%%\n"
    }
   },
   "outputs": [],
   "source": [
    "dat_frame.assign(address=['D', 'B', 'C', 'P', 'H'])         # similar to setting with enlargement\n",
    "                                                            # Note: Returns old dataframe with new column, no overwrite"
   ]
  },
  {
   "cell_type": "code",
   "execution_count": null,
   "metadata": {
    "pycharm": {
     "name": "#%%\n"
    }
   },
   "outputs": [],
   "source": [
    "dat_frame['doubled'] = dat_frame['col_label_4'] + \\\n",
    "                       dat_frame['col_label_4']             # creation by adding two columns\n"
   ]
  },
  {
   "cell_type": "markdown",
   "metadata": {},
   "source": [
    "Next, add rows."
   ]
  },
  {
   "cell_type": "code",
   "execution_count": null,
   "metadata": {
    "pycharm": {
     "name": "#%%\n"
    }
   },
   "outputs": [],
   "source": [
    "# Adding rows by enlargement\n",
    "\n",
    "new_row_index = len(dat_frame)\n",
    "\n",
    "dat_frame.loc[new_row_index] =[1, 2, 3, 4, 1]\n"
   ]
  },
  {
   "cell_type": "code",
   "execution_count": null,
   "metadata": {
    "pycharm": {
     "name": "#%%\n"
    }
   },
   "outputs": [],
   "source": [
    "# Adding rows with pandas internal .append method. However, both need to be a pandas object\n",
    "\n",
    "new_line = pd.Series([1, 22, 4, 5], index=dat_frame.columns)\n",
    "new_line"
   ]
  },
  {
   "cell_type": "code",
   "execution_count": null,
   "metadata": {
    "pycharm": {
     "name": "#%%\n"
    }
   },
   "outputs": [],
   "source": [
    "dat_frame.append(new_line, ignore_index=True)          # with .append() method, overwrite old index with new"
   ]
  },
  {
   "cell_type": "markdown",
   "metadata": {},
   "source": [
    "**Delete columns and rows**"
   ]
  },
  {
   "cell_type": "code",
   "execution_count": null,
   "metadata": {
    "pycharm": {
     "name": "#%%\n"
    }
   },
   "outputs": [],
   "source": [
    "# Delete column\n",
    "dat_frame.drop(columns=['col_label_1', 'col_label_3'], inplace=False)       # drop by label\n",
    "dat_frame.drop(dat_frame.columns[2], axis=1)                                # drop by index"
   ]
  },
  {
   "cell_type": "code",
   "execution_count": null,
   "metadata": {
    "pycharm": {
     "name": "#%%\n"
    }
   },
   "outputs": [],
   "source": [
    "# Delete row\n",
    "dat_frame.drop(index=['word'], inplace=True)                                # drop by label\n",
    "dat_frame.drop(dat_frame.index[2])                                          # drop by index\n",
    "\n",
    "# See: .pop() for other methods\n",
    "# Note: Dropping columns, rows is the same like slicing a dataframe for you own needs\n"
   ]
  },
  {
   "cell_type": "markdown",
   "metadata": {},
   "source": [
    "### Add Data, Merge and Concatenating\n",
    "\n",
    "Probably one of the most important and ugliest task is to merge dataframes and identify differences. These\n",
    "are the basic functionalities. Details will be explored in the exercises.\n",
    "\n",
    "We consider two important operations, namely, concatenating and merging.\n",
    "\n",
    "Use pd.concatenate if the dataframes are homogeneous, i.e. share the same columns"
   ]
  },
  {
   "cell_type": "code",
   "execution_count": null,
   "metadata": {
    "pycharm": {
     "name": "#%%\n"
    }
   },
   "outputs": [],
   "source": [
    "df1 = pd.DataFrame({'col1': ['k1', 'k2', 'k3', 'k4'],\n",
    "                    'col2': [1, 2, 3, 5],\n",
    "                    'col2': [16, 21, 32, 53]})\n",
    "df1"
   ]
  },
  {
   "cell_type": "code",
   "execution_count": null,
   "metadata": {
    "pycharm": {
     "name": "#%%\n"
    }
   },
   "outputs": [],
   "source": [
    "df2 = pd.DataFrame({'col1': ['r1', 'r2', 'r3', 'r4'],\n",
    "                    'col2': [5, 6, 7, 8]})\n",
    "df2"
   ]
  },
  {
   "cell_type": "code",
   "execution_count": null,
   "metadata": {
    "pycharm": {
     "name": "#%%\n"
    }
   },
   "outputs": [],
   "source": [
    "df3 = pd.DataFrame({'col1': ['r1', 'r2', 'r3', 'r4', 'r5'],\n",
    "                    'col2': [5, 6, 7, 8, 9],\n",
    "                    'col3': [12,34,56,78,8]})\n",
    "df3"
   ]
  },
  {
   "cell_type": "code",
   "execution_count": null,
   "metadata": {
    "pycharm": {
     "name": "#%%\n"
    }
   },
   "outputs": [],
   "source": [
    "# Enter the dataframes as a list (an iterable to be precise)"
   ]
  },
  {
   "cell_type": "code",
   "execution_count": null,
   "metadata": {
    "pycharm": {
     "name": "#%%\n"
    }
   },
   "outputs": [],
   "source": [
    "pd.concat([df1, df2])"
   ]
  },
  {
   "cell_type": "code",
   "execution_count": null,
   "metadata": {
    "pycharm": {
     "name": "#%%\n"
    }
   },
   "outputs": [],
   "source": [
    "pd.concat([df1, df2], axis=1)"
   ]
  },
  {
   "cell_type": "code",
   "execution_count": null,
   "metadata": {
    "pycharm": {
     "name": "#%%\n"
    }
   },
   "outputs": [],
   "source": [
    "pd.concat([df1, df3], axis=1, join='outer')"
   ]
  },
  {
   "cell_type": "code",
   "execution_count": null,
   "metadata": {
    "pycharm": {
     "name": "#%%\n"
    }
   },
   "outputs": [],
   "source": [
    "pd.concat([df1, df3], axis=0, join='outer')"
   ]
  },
  {
   "cell_type": "code",
   "execution_count": null,
   "metadata": {
    "pycharm": {
     "name": "#%%\n"
    }
   },
   "outputs": [],
   "source": [
    "pd.concat([df1, df3], axis=0, join='inner')"
   ]
  },
  {
   "cell_type": "markdown",
   "metadata": {},
   "source": [
    "This is sufficient for our purpose for now. There is also the .merge() method which has more customization options.\n",
    "See: https://pandas.pydata.org/pandas-docs/stable/reference/api/pandas.DataFrame.merge.html\n",
    "for more details"
   ]
  }
 ],
 "metadata": {
  "kernelspec": {
   "display_name": "Python 3",
   "language": "python",
   "name": "python3"
  },
  "language_info": {
   "codemirror_mode": {
    "name": "ipython",
    "version": 3
   },
   "file_extension": ".py",
   "mimetype": "text/x-python",
   "name": "python",
   "nbconvert_exporter": "python",
   "pygments_lexer": "ipython3",
   "version": "3.7.10"
  }
 },
 "nbformat": 4,
 "nbformat_minor": 1
}