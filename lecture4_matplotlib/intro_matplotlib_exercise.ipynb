{
 "cells": [
  {
   "cell_type": "markdown",
   "metadata": {
    "collapsed": true,
    "pycharm": {
     "name": "#%% md\n"
    }
   },
   "source": [
    "# Python Basics: Data Visualization - Exercises\n"
   ]
  },
  {
   "cell_type": "code",
   "execution_count": null,
   "metadata": {
    "pycharm": {
     "name": "#%%\n"
    }
   },
   "outputs": [],
   "source": [
    "import pandas as pd\n",
    "import numpy as np\n",
    "import matplotlib.pyplot as plt\n",
    "import matplotlib as mpl\n"
   ]
  },
  {
   "cell_type": "markdown",
   "metadata": {
    "pycharm": {
     "name": "#%% md\n"
    }
   },
   "source": [
    "Our exercise project will be to create a meaningful plot of a time series. For that\n",
    "load the `GDAX.csv` with the appropriate functions and transform the date column into\n",
    "a date time object."
   ]
  },
  {
   "cell_type": "code",
   "execution_count": null,
   "metadata": {
    "pycharm": {
     "name": "#%%\n"
    }
   },
   "outputs": [],
   "source": [
    "GDAX = pd.read_csv('GDAX.csv')"
   ]
  },
  {
   "cell_type": "code",
   "execution_count": null,
   "metadata": {
    "pycharm": {
     "name": "#%%\n"
    }
   },
   "outputs": [],
   "source": [
    "GDAX['Date'] = pd.to_datetime(GDAX['Date'])\n",
    "GDAX.set_index('Date', inplace=True)"
   ]
  },
  {
   "cell_type": "markdown",
   "metadata": {
    "pycharm": {
     "name": "#%% md\n"
    }
   },
   "source": [
    "Select the \"Adjusted Close\" column and store in an new dataframe"
   ]
  },
  {
   "cell_type": "code",
   "execution_count": null,
   "metadata": {
    "pycharm": {
     "name": "#%%\n"
    }
   },
   "outputs": [],
   "source": [
    "GDAX_adj = GDAX['Adj Close']"
   ]
  },
  {
   "cell_type": "markdown",
   "metadata": {
    "pycharm": {
     "name": "#%% md\n"
    }
   },
   "source": [
    "We add another column for returns. The reason why we want to focus on returns\n",
    "will be explained in the next lesson. For now, we are simply interested in the shape."
   ]
  },
  {
   "cell_type": "code",
   "execution_count": null,
   "metadata": {
    "pycharm": {
     "name": "#%%\n"
    }
   },
   "outputs": [],
   "source": [
    "returns = pd.Series(GDAX_adj.pct_change(), name='returns')\n",
    "fin_df = pd.concat([GDAX_adj,returns], axis=1, join='outer').dropna()"
   ]
  },
  {
   "cell_type": "code",
   "execution_count": null,
   "metadata": {
    "pycharm": {
     "name": "#%%\n"
    }
   },
   "outputs": [],
   "source": [
    "fin_df"
   ]
  },
  {
   "cell_type": "markdown",
   "metadata": {
    "pycharm": {
     "name": "#%% md\n"
    }
   },
   "source": [
    "Plot the dataframe in one figure but with two axes. Make sure that both plots share the same\n",
    "y.axis"
   ]
  },
  {
   "cell_type": "code",
   "execution_count": null,
   "metadata": {
    "pycharm": {
     "name": "#%%\n"
    }
   },
   "outputs": [],
   "source": [
    "fig, ax = plt.subplots(2, 1, sharex=True)\n",
    "fig.set_size_inches(21, 9)\n",
    "ax[0].plot(fin_df['Adj Close'])\n",
    "ax[1].plot(fin_df['returns'])\n",
    "plt.show()"
   ]
  },
  {
   "cell_type": "markdown",
   "metadata": {
    "pycharm": {
     "name": "#%% md\n"
    }
   },
   "source": [
    "Next, plot the histogram of the returns with 100 bins and label the axis adequately."
   ]
  },
  {
   "cell_type": "code",
   "execution_count": null,
   "metadata": {
    "pycharm": {
     "name": "#%%\n"
    }
   },
   "outputs": [],
   "source": [
    "fig, ax = plt.subplots()\n",
    "fig.set_size_inches(21, 9)\n",
    "ax.set_title('Histogram of Stock Returns')\n",
    "ax.set_xlabel('Date')\n",
    "ax.set_ylabel('Returns')\n",
    "ax.hist(fin_df['returns'], bins=100)\n",
    "plt.show()"
   ]
  },
  {
   "cell_type": "markdown",
   "metadata": {
    "pycharm": {
     "name": "#%% md\n"
    }
   },
   "source": [
    "Draw a red line with the 5% quantile and a green line at the 95% quantile. Use `np.quantile` in order to determine\n",
    "the quantile first."
   ]
  },
  {
   "cell_type": "code",
   "execution_count": null,
   "metadata": {
    "pycharm": {
     "name": "#%%\n"
    }
   },
   "outputs": [],
   "source": [
    "upper_quantile = np.quantile(fin_df['returns'], 0.95)\n",
    "lower_quantile = np.quantile(fin_df['returns'], 0.05)\n",
    "\n",
    "fig, ax = plt.subplots()\n",
    "fig.set_size_inches(21, 9)\n",
    "ax.hist(fin_df['returns'], bins=100)\n",
    "ax.axvline(lower_quantile, color='red', label=\"Lower\")\n",
    "ax.axvline(upper_quantile, color='green', label=\"Upper\")\n",
    "plt.legend()\n",
    "plt.show()"
   ]
  },
  {
   "cell_type": "markdown",
   "metadata": {
    "pycharm": {
     "name": "#%% md\n"
    }
   },
   "source": [
    "We will now focus on the data between 2007-2009."
   ]
  },
  {
   "cell_type": "code",
   "execution_count": null,
   "metadata": {
    "pycharm": {
     "name": "#%%\n"
    }
   },
   "outputs": [],
   "source": [
    "fin_df_sub = fin_df['2007':'2009']['returns']\n",
    "\n",
    "plt.plot(fin_df_sub)\n",
    "plt.gcf().set_size_inches(21, 9)"
   ]
  },
  {
   "cell_type": "markdown",
   "metadata": {
    "pycharm": {
     "name": "#%% md\n"
    }
   },
   "source": [
    "Regarding the plot above, set a red marker for all monthly minima and a green marker for\n",
    "all monthly maxima.\n",
    "\n",
    "Find the monthly minima and maxima first and store them in an array.\n",
    "Then stack the plots into one plot. Explore the `.groupby` function of a\n",
    "dataframe and the `pd.Grouper(freq = ...)` function. Hint: You also need the `.idxmax`\n",
    "method to attain the right time stamp of the maxima/minima."
   ]
  },
  {
   "cell_type": "code",
   "execution_count": null,
   "metadata": {
    "pycharm": {
     "name": "#%%\n"
    }
   },
   "outputs": [],
   "source": [
    "# Returns the index of the maximal & minimal value\n",
    "M_max_idx = fin_df_sub.groupby(pd.Grouper(freq='M')).idxmax()\n",
    "M_min_idx = fin_df_sub.groupby(pd.Grouper(freq='M')).idxmin()"
   ]
  },
  {
   "cell_type": "code",
   "execution_count": null,
   "metadata": {
    "pycharm": {
     "name": "#%%\n"
    }
   },
   "outputs": [],
   "source": [
    "fig, ax = plt.subplots()\n",
    "fig.set_size_inches(21, 9)\n",
    "ax.plot(fin_df_sub)\n",
    "ax.scatter(M_max_idx, fin_df_sub[M_max_idx], color='g', label='max', marker=mpl.markers.CARETUPBASE)\n",
    "ax.scatter(M_min_idx, fin_df_sub[M_min_idx], color='r', label='min', marker=mpl.markers.CARETDOWNBASE)\n",
    "plt.show()"
   ]
  },
  {
   "cell_type": "markdown",
   "metadata": {
    "pycharm": {
     "name": "#%% md\n"
    }
   },
   "source": [
    "Bonus: Add the amount of return as text above/below the corresponding markers. Use `ax.annotate`\n",
    "and an appropriated loop."
   ]
  },
  {
   "cell_type": "code",
   "execution_count": null,
   "metadata": {
    "pycharm": {
     "name": "#%%\n"
    }
   },
   "outputs": [],
   "source": [
    "fig, ax = plt.subplots()\n",
    "fig.set_size_inches(21, 9)\n",
    "\n",
    "ax.plot(fin_df_sub)\n",
    "ax.scatter(M_max_idx, fin_df_sub[M_max_idx], color='g', label='max', marker='o', s=70)\n",
    "ax.scatter(M_min_idx, fin_df_sub[M_min_idx], color='r', label='min', marker='o', s=70)\n",
    "\n",
    "for i, txt in enumerate(fin_df_sub[M_min_idx]):\n",
    "    ax.annotate(round(txt, 3), (M_min_idx[i], fin_df_sub[M_min_idx][i]-0.0075), fontsize=10)\n",
    "    ax.annotate(round(txt, 3), (M_max_idx[i], fin_df_sub[M_max_idx][i]+0.0055), fontsize=10)\n",
    "\n",
    "plt.show()"
   ]
  },
  {
   "cell_type": "markdown",
   "metadata": {
    "pycharm": {
     "name": "#%% md\n"
    }
   },
   "source": [
    "Finally, one last easy task! Change the color of the lineplot to black during the financial crisis, i.e. in year 2008."
   ]
  },
  {
   "cell_type": "code",
   "execution_count": null,
   "metadata": {
    "pycharm": {
     "name": "#%%\n"
    }
   },
   "outputs": [],
   "source": [
    "fig, ax = plt.subplots()\n",
    "fig.set_size_inches(21, 9)\n",
    "ax.plot(fin_df_sub)\n",
    "ax.plot(fin_df_sub['2008'], color='black')\n",
    "plt.show()"
   ]
  },
  {
   "cell_type": "markdown",
   "metadata": {
    "pycharm": {
     "name": "#%% md\n"
    }
   },
   "source": [
    "Helpful links:\n",
    "\n",
    "#### Some helpful comments in stack overflow\n",
    "https://stackoverflow.com/questions/30121773/python-is-it-possible-to-change-line-color-in-a-plot-if-exceeds-a-specific-rang\n",
    "\n",
    "#### Collection of nice plots\n",
    "https://www.machinelearningplus.com/plots/top-50-matplotlib-visualizations-the-master-plots-python/\n",
    "\n",
    "#### Python plots for practical business\n",
    "https://pbpython.com/"
   ]
  }
 ],
 "metadata": {
  "kernelspec": {
   "display_name": "Python 3",
   "language": "python",
   "name": "python3"
  },
  "language_info": {
   "codemirror_mode": {
    "name": "ipython",
    "version": 3
   },
   "file_extension": ".py",
   "mimetype": "text/x-python",
   "name": "python",
   "nbconvert_exporter": "python",
   "pygments_lexer": "ipython3",
   "version": "3.7.11"
  }
 },
 "nbformat": 4,
 "nbformat_minor": 1
}